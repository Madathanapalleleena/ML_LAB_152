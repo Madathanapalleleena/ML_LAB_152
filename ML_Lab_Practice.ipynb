{
  "nbformat": 4,
  "nbformat_minor": 0,
  "metadata": {
    "colab": {
      "provenance": [],
      "mount_file_id": "1Entz-buFjlM5tshSrlzdd2fSwtIqIfM4",
      "authorship_tag": "ABX9TyOIoLIPKhOdzHdw/pWZ5vtg",
      "include_colab_link": true
    },
    "kernelspec": {
      "name": "python3",
      "display_name": "Python 3"
    },
    "language_info": {
      "name": "python"
    }
  },
  "cells": [
    {
      "cell_type": "markdown",
      "metadata": {
        "id": "view-in-github",
        "colab_type": "text"
      },
      "source": [
        "<a href=\"https://colab.research.google.com/github/Madathanapalleleena/ML_LAB_152/blob/main/ML_Lab_Practice.ipynb\" target=\"_parent\"><img src=\"https://colab.research.google.com/assets/colab-badge.svg\" alt=\"Open In Colab\"/></a>"
      ]
    },
    {
      "cell_type": "code",
      "execution_count": null,
      "metadata": {
        "colab": {
          "base_uri": "https://localhost:8080/"
        },
        "id": "uhj6hsNIvop-",
        "outputId": "e97f3f72-43d2-4082-b221-07d1945f70c9"
      },
      "outputs": [
        {
          "output_type": "stream",
          "name": "stdout",
          "text": [
            "            2014   2015    2016   2017\n",
            "Madhu      100.5  12000   20000  50000\n",
            "Kusum      150.8  18000   50000  60000\n",
            "Kinshuk    200.9  22000   70000  70000\n",
            "Ankit    30000.0  30000  100000  80000\n",
            "Shruti   40000.0  45000  125000  90000\n"
          ]
        }
      ],
      "source": [
        "#23-07-2025\n",
        "import pandas as pd\n",
        "data = [\n",
        "    [100.5, 12000, 20000, 50000],\n",
        "    [150.8, 18000, 50000, 60000],\n",
        "    [200.9, 22000, 70000, 70000],\n",
        "    [30000, 30000, 100000, 80000],\n",
        "    [40000, 45000, 125000, 90000]\n",
        "]\n",
        "df=pd.DataFrame(data,index=[\"Madhu\",\"Kusum\",\"Kinshuk\",\"Ankit\",\"Shruti\"],columns=[\"2014\",\"2015\",\"2016\",\"2017\"])\n",
        "print(df)"
      ]
    },
    {
      "cell_type": "code",
      "source": [
        "print(df.index)\n",
        "print(df.columns)\n",
        "print(df.dtypes)\n",
        "print(df.ndim)\n",
        "print(df.shape)\n",
        "print(df.size)\n",
        "print(df.values)\n",
        "print(df.describe)\n",
        "print(df.info)"
      ],
      "metadata": {
        "colab": {
          "base_uri": "https://localhost:8080/"
        },
        "id": "hYiCHAwXx6qy",
        "outputId": "5de51420-2b50-427c-f608-a1cc290f4dfd"
      },
      "execution_count": null,
      "outputs": [
        {
          "output_type": "stream",
          "name": "stdout",
          "text": [
            "Index(['Madhu', 'Kusum', 'Kinshuk', 'Ankit', 'Shruti'], dtype='object')\n",
            "Index(['2014', '2015', '2016', '2017'], dtype='object')\n",
            "2014    float64\n",
            "2015      int64\n",
            "2016      int64\n",
            "2017      int64\n",
            "dtype: object\n",
            "2\n",
            "(5, 4)\n",
            "20\n",
            "[[1.005e+02 1.200e+04 2.000e+04 5.000e+04]\n",
            " [1.508e+02 1.800e+04 5.000e+04 6.000e+04]\n",
            " [2.009e+02 2.200e+04 7.000e+04 7.000e+04]\n",
            " [3.000e+04 3.000e+04 1.000e+05 8.000e+04]\n",
            " [4.000e+04 4.500e+04 1.250e+05 9.000e+04]]\n",
            "<bound method NDFrame.describe of             2014   2015    2016   2017\n",
            "Madhu      100.5  12000   20000  50000\n",
            "Kusum      150.8  18000   50000  60000\n",
            "Kinshuk    200.9  22000   70000  70000\n",
            "Ankit    30000.0  30000  100000  80000\n",
            "Shruti   40000.0  45000  125000  90000>\n",
            "<bound method DataFrame.info of             2014   2015    2016   2017\n",
            "Madhu      100.5  12000   20000  50000\n",
            "Kusum      150.8  18000   50000  60000\n",
            "Kinshuk    200.9  22000   70000  70000\n",
            "Ankit    30000.0  30000  100000  80000\n",
            "Shruti   40000.0  45000  125000  90000>\n"
          ]
        }
      ]
    },
    {
      "cell_type": "code",
      "source": [
        "df.tail(2)"
      ],
      "metadata": {
        "colab": {
          "base_uri": "https://localhost:8080/",
          "height": 112
        },
        "id": "cnGrr60my7tC",
        "outputId": "2859eaa3-1c05-4cb0-ce3b-42b1a0628d1d"
      },
      "execution_count": null,
      "outputs": [
        {
          "output_type": "execute_result",
          "data": {
            "text/plain": [
              "           2014   2015    2016   2017\n",
              "Ankit   30000.0  30000  100000  80000\n",
              "Shruti  40000.0  45000  125000  90000"
            ],
            "text/html": [
              "\n",
              "  <div id=\"df-2c647762-e219-4cd9-a11a-2b3f54862519\" class=\"colab-df-container\">\n",
              "    <div>\n",
              "<style scoped>\n",
              "    .dataframe tbody tr th:only-of-type {\n",
              "        vertical-align: middle;\n",
              "    }\n",
              "\n",
              "    .dataframe tbody tr th {\n",
              "        vertical-align: top;\n",
              "    }\n",
              "\n",
              "    .dataframe thead th {\n",
              "        text-align: right;\n",
              "    }\n",
              "</style>\n",
              "<table border=\"1\" class=\"dataframe\">\n",
              "  <thead>\n",
              "    <tr style=\"text-align: right;\">\n",
              "      <th></th>\n",
              "      <th>2014</th>\n",
              "      <th>2015</th>\n",
              "      <th>2016</th>\n",
              "      <th>2017</th>\n",
              "    </tr>\n",
              "  </thead>\n",
              "  <tbody>\n",
              "    <tr>\n",
              "      <th>Ankit</th>\n",
              "      <td>30000.0</td>\n",
              "      <td>30000</td>\n",
              "      <td>100000</td>\n",
              "      <td>80000</td>\n",
              "    </tr>\n",
              "    <tr>\n",
              "      <th>Shruti</th>\n",
              "      <td>40000.0</td>\n",
              "      <td>45000</td>\n",
              "      <td>125000</td>\n",
              "      <td>90000</td>\n",
              "    </tr>\n",
              "  </tbody>\n",
              "</table>\n",
              "</div>\n",
              "    <div class=\"colab-df-buttons\">\n",
              "\n",
              "  <div class=\"colab-df-container\">\n",
              "    <button class=\"colab-df-convert\" onclick=\"convertToInteractive('df-2c647762-e219-4cd9-a11a-2b3f54862519')\"\n",
              "            title=\"Convert this dataframe to an interactive table.\"\n",
              "            style=\"display:none;\">\n",
              "\n",
              "  <svg xmlns=\"http://www.w3.org/2000/svg\" height=\"24px\" viewBox=\"0 -960 960 960\">\n",
              "    <path d=\"M120-120v-720h720v720H120Zm60-500h600v-160H180v160Zm220 220h160v-160H400v160Zm0 220h160v-160H400v160ZM180-400h160v-160H180v160Zm440 0h160v-160H620v160ZM180-180h160v-160H180v160Zm440 0h160v-160H620v160Z\"/>\n",
              "  </svg>\n",
              "    </button>\n",
              "\n",
              "  <style>\n",
              "    .colab-df-container {\n",
              "      display:flex;\n",
              "      gap: 12px;\n",
              "    }\n",
              "\n",
              "    .colab-df-convert {\n",
              "      background-color: #E8F0FE;\n",
              "      border: none;\n",
              "      border-radius: 50%;\n",
              "      cursor: pointer;\n",
              "      display: none;\n",
              "      fill: #1967D2;\n",
              "      height: 32px;\n",
              "      padding: 0 0 0 0;\n",
              "      width: 32px;\n",
              "    }\n",
              "\n",
              "    .colab-df-convert:hover {\n",
              "      background-color: #E2EBFA;\n",
              "      box-shadow: 0px 1px 2px rgba(60, 64, 67, 0.3), 0px 1px 3px 1px rgba(60, 64, 67, 0.15);\n",
              "      fill: #174EA6;\n",
              "    }\n",
              "\n",
              "    .colab-df-buttons div {\n",
              "      margin-bottom: 4px;\n",
              "    }\n",
              "\n",
              "    [theme=dark] .colab-df-convert {\n",
              "      background-color: #3B4455;\n",
              "      fill: #D2E3FC;\n",
              "    }\n",
              "\n",
              "    [theme=dark] .colab-df-convert:hover {\n",
              "      background-color: #434B5C;\n",
              "      box-shadow: 0px 1px 3px 1px rgba(0, 0, 0, 0.15);\n",
              "      filter: drop-shadow(0px 1px 2px rgba(0, 0, 0, 0.3));\n",
              "      fill: #FFFFFF;\n",
              "    }\n",
              "  </style>\n",
              "\n",
              "    <script>\n",
              "      const buttonEl =\n",
              "        document.querySelector('#df-2c647762-e219-4cd9-a11a-2b3f54862519 button.colab-df-convert');\n",
              "      buttonEl.style.display =\n",
              "        google.colab.kernel.accessAllowed ? 'block' : 'none';\n",
              "\n",
              "      async function convertToInteractive(key) {\n",
              "        const element = document.querySelector('#df-2c647762-e219-4cd9-a11a-2b3f54862519');\n",
              "        const dataTable =\n",
              "          await google.colab.kernel.invokeFunction('convertToInteractive',\n",
              "                                                    [key], {});\n",
              "        if (!dataTable) return;\n",
              "\n",
              "        const docLinkHtml = 'Like what you see? Visit the ' +\n",
              "          '<a target=\"_blank\" href=https://colab.research.google.com/notebooks/data_table.ipynb>data table notebook</a>'\n",
              "          + ' to learn more about interactive tables.';\n",
              "        element.innerHTML = '';\n",
              "        dataTable['output_type'] = 'display_data';\n",
              "        await google.colab.output.renderOutput(dataTable, element);\n",
              "        const docLink = document.createElement('div');\n",
              "        docLink.innerHTML = docLinkHtml;\n",
              "        element.appendChild(docLink);\n",
              "      }\n",
              "    </script>\n",
              "  </div>\n",
              "\n",
              "\n",
              "    <div id=\"df-ee6dcf4d-2967-4d51-b33c-b3c5f98388cd\">\n",
              "      <button class=\"colab-df-quickchart\" onclick=\"quickchart('df-ee6dcf4d-2967-4d51-b33c-b3c5f98388cd')\"\n",
              "                title=\"Suggest charts\"\n",
              "                style=\"display:none;\">\n",
              "\n",
              "<svg xmlns=\"http://www.w3.org/2000/svg\" height=\"24px\"viewBox=\"0 0 24 24\"\n",
              "     width=\"24px\">\n",
              "    <g>\n",
              "        <path d=\"M19 3H5c-1.1 0-2 .9-2 2v14c0 1.1.9 2 2 2h14c1.1 0 2-.9 2-2V5c0-1.1-.9-2-2-2zM9 17H7v-7h2v7zm4 0h-2V7h2v10zm4 0h-2v-4h2v4z\"/>\n",
              "    </g>\n",
              "</svg>\n",
              "      </button>\n",
              "\n",
              "<style>\n",
              "  .colab-df-quickchart {\n",
              "      --bg-color: #E8F0FE;\n",
              "      --fill-color: #1967D2;\n",
              "      --hover-bg-color: #E2EBFA;\n",
              "      --hover-fill-color: #174EA6;\n",
              "      --disabled-fill-color: #AAA;\n",
              "      --disabled-bg-color: #DDD;\n",
              "  }\n",
              "\n",
              "  [theme=dark] .colab-df-quickchart {\n",
              "      --bg-color: #3B4455;\n",
              "      --fill-color: #D2E3FC;\n",
              "      --hover-bg-color: #434B5C;\n",
              "      --hover-fill-color: #FFFFFF;\n",
              "      --disabled-bg-color: #3B4455;\n",
              "      --disabled-fill-color: #666;\n",
              "  }\n",
              "\n",
              "  .colab-df-quickchart {\n",
              "    background-color: var(--bg-color);\n",
              "    border: none;\n",
              "    border-radius: 50%;\n",
              "    cursor: pointer;\n",
              "    display: none;\n",
              "    fill: var(--fill-color);\n",
              "    height: 32px;\n",
              "    padding: 0;\n",
              "    width: 32px;\n",
              "  }\n",
              "\n",
              "  .colab-df-quickchart:hover {\n",
              "    background-color: var(--hover-bg-color);\n",
              "    box-shadow: 0 1px 2px rgba(60, 64, 67, 0.3), 0 1px 3px 1px rgba(60, 64, 67, 0.15);\n",
              "    fill: var(--button-hover-fill-color);\n",
              "  }\n",
              "\n",
              "  .colab-df-quickchart-complete:disabled,\n",
              "  .colab-df-quickchart-complete:disabled:hover {\n",
              "    background-color: var(--disabled-bg-color);\n",
              "    fill: var(--disabled-fill-color);\n",
              "    box-shadow: none;\n",
              "  }\n",
              "\n",
              "  .colab-df-spinner {\n",
              "    border: 2px solid var(--fill-color);\n",
              "    border-color: transparent;\n",
              "    border-bottom-color: var(--fill-color);\n",
              "    animation:\n",
              "      spin 1s steps(1) infinite;\n",
              "  }\n",
              "\n",
              "  @keyframes spin {\n",
              "    0% {\n",
              "      border-color: transparent;\n",
              "      border-bottom-color: var(--fill-color);\n",
              "      border-left-color: var(--fill-color);\n",
              "    }\n",
              "    20% {\n",
              "      border-color: transparent;\n",
              "      border-left-color: var(--fill-color);\n",
              "      border-top-color: var(--fill-color);\n",
              "    }\n",
              "    30% {\n",
              "      border-color: transparent;\n",
              "      border-left-color: var(--fill-color);\n",
              "      border-top-color: var(--fill-color);\n",
              "      border-right-color: var(--fill-color);\n",
              "    }\n",
              "    40% {\n",
              "      border-color: transparent;\n",
              "      border-right-color: var(--fill-color);\n",
              "      border-top-color: var(--fill-color);\n",
              "    }\n",
              "    60% {\n",
              "      border-color: transparent;\n",
              "      border-right-color: var(--fill-color);\n",
              "    }\n",
              "    80% {\n",
              "      border-color: transparent;\n",
              "      border-right-color: var(--fill-color);\n",
              "      border-bottom-color: var(--fill-color);\n",
              "    }\n",
              "    90% {\n",
              "      border-color: transparent;\n",
              "      border-bottom-color: var(--fill-color);\n",
              "    }\n",
              "  }\n",
              "</style>\n",
              "\n",
              "      <script>\n",
              "        async function quickchart(key) {\n",
              "          const quickchartButtonEl =\n",
              "            document.querySelector('#' + key + ' button');\n",
              "          quickchartButtonEl.disabled = true;  // To prevent multiple clicks.\n",
              "          quickchartButtonEl.classList.add('colab-df-spinner');\n",
              "          try {\n",
              "            const charts = await google.colab.kernel.invokeFunction(\n",
              "                'suggestCharts', [key], {});\n",
              "          } catch (error) {\n",
              "            console.error('Error during call to suggestCharts:', error);\n",
              "          }\n",
              "          quickchartButtonEl.classList.remove('colab-df-spinner');\n",
              "          quickchartButtonEl.classList.add('colab-df-quickchart-complete');\n",
              "        }\n",
              "        (() => {\n",
              "          let quickchartButtonEl =\n",
              "            document.querySelector('#df-ee6dcf4d-2967-4d51-b33c-b3c5f98388cd button');\n",
              "          quickchartButtonEl.style.display =\n",
              "            google.colab.kernel.accessAllowed ? 'block' : 'none';\n",
              "        })();\n",
              "      </script>\n",
              "    </div>\n",
              "\n",
              "    </div>\n",
              "  </div>\n"
            ],
            "application/vnd.google.colaboratory.intrinsic+json": {
              "type": "dataframe",
              "summary": "{\n  \"name\": \"df\",\n  \"rows\": 2,\n  \"fields\": [\n    {\n      \"column\": \"2014\",\n      \"properties\": {\n        \"dtype\": \"number\",\n        \"std\": 7071.067811865475,\n        \"min\": 30000.0,\n        \"max\": 40000.0,\n        \"num_unique_values\": 2,\n        \"samples\": [\n          40000.0,\n          30000.0\n        ],\n        \"semantic_type\": \"\",\n        \"description\": \"\"\n      }\n    },\n    {\n      \"column\": \"2015\",\n      \"properties\": {\n        \"dtype\": \"number\",\n        \"std\": 10606,\n        \"min\": 30000,\n        \"max\": 45000,\n        \"num_unique_values\": 2,\n        \"samples\": [\n          45000,\n          30000\n        ],\n        \"semantic_type\": \"\",\n        \"description\": \"\"\n      }\n    },\n    {\n      \"column\": \"2016\",\n      \"properties\": {\n        \"dtype\": \"number\",\n        \"std\": 17677,\n        \"min\": 100000,\n        \"max\": 125000,\n        \"num_unique_values\": 2,\n        \"samples\": [\n          125000,\n          100000\n        ],\n        \"semantic_type\": \"\",\n        \"description\": \"\"\n      }\n    },\n    {\n      \"column\": \"2017\",\n      \"properties\": {\n        \"dtype\": \"number\",\n        \"std\": 7071,\n        \"min\": 80000,\n        \"max\": 90000,\n        \"num_unique_values\": 2,\n        \"samples\": [\n          90000,\n          80000\n        ],\n        \"semantic_type\": \"\",\n        \"description\": \"\"\n      }\n    }\n  ]\n}"
            }
          },
          "metadata": {},
          "execution_count": 4
        }
      ]
    },
    {
      "cell_type": "code",
      "source": [
        "#first 2 cols\n",
        "df.iloc[:,:2]\n",
        "#df[df.columns[:2]]"
      ],
      "metadata": {
        "colab": {
          "base_uri": "https://localhost:8080/",
          "height": 206
        },
        "id": "Okbg5Zy7zAZo",
        "outputId": "50786234-d9f1-4107-a223-9309af41c220"
      },
      "execution_count": null,
      "outputs": [
        {
          "output_type": "execute_result",
          "data": {
            "text/plain": [
              "            2014   2015\n",
              "Madhu      100.5  12000\n",
              "Kusum      150.8  18000\n",
              "Kinshuk    200.9  22000\n",
              "Ankit    30000.0  30000\n",
              "Shruti   40000.0  45000"
            ],
            "text/html": [
              "\n",
              "  <div id=\"df-969dbcc8-2d9a-4f35-9a04-cadab42e7446\" class=\"colab-df-container\">\n",
              "    <div>\n",
              "<style scoped>\n",
              "    .dataframe tbody tr th:only-of-type {\n",
              "        vertical-align: middle;\n",
              "    }\n",
              "\n",
              "    .dataframe tbody tr th {\n",
              "        vertical-align: top;\n",
              "    }\n",
              "\n",
              "    .dataframe thead th {\n",
              "        text-align: right;\n",
              "    }\n",
              "</style>\n",
              "<table border=\"1\" class=\"dataframe\">\n",
              "  <thead>\n",
              "    <tr style=\"text-align: right;\">\n",
              "      <th></th>\n",
              "      <th>2014</th>\n",
              "      <th>2015</th>\n",
              "    </tr>\n",
              "  </thead>\n",
              "  <tbody>\n",
              "    <tr>\n",
              "      <th>Madhu</th>\n",
              "      <td>100.5</td>\n",
              "      <td>12000</td>\n",
              "    </tr>\n",
              "    <tr>\n",
              "      <th>Kusum</th>\n",
              "      <td>150.8</td>\n",
              "      <td>18000</td>\n",
              "    </tr>\n",
              "    <tr>\n",
              "      <th>Kinshuk</th>\n",
              "      <td>200.9</td>\n",
              "      <td>22000</td>\n",
              "    </tr>\n",
              "    <tr>\n",
              "      <th>Ankit</th>\n",
              "      <td>30000.0</td>\n",
              "      <td>30000</td>\n",
              "    </tr>\n",
              "    <tr>\n",
              "      <th>Shruti</th>\n",
              "      <td>40000.0</td>\n",
              "      <td>45000</td>\n",
              "    </tr>\n",
              "  </tbody>\n",
              "</table>\n",
              "</div>\n",
              "    <div class=\"colab-df-buttons\">\n",
              "\n",
              "  <div class=\"colab-df-container\">\n",
              "    <button class=\"colab-df-convert\" onclick=\"convertToInteractive('df-969dbcc8-2d9a-4f35-9a04-cadab42e7446')\"\n",
              "            title=\"Convert this dataframe to an interactive table.\"\n",
              "            style=\"display:none;\">\n",
              "\n",
              "  <svg xmlns=\"http://www.w3.org/2000/svg\" height=\"24px\" viewBox=\"0 -960 960 960\">\n",
              "    <path d=\"M120-120v-720h720v720H120Zm60-500h600v-160H180v160Zm220 220h160v-160H400v160Zm0 220h160v-160H400v160ZM180-400h160v-160H180v160Zm440 0h160v-160H620v160ZM180-180h160v-160H180v160Zm440 0h160v-160H620v160Z\"/>\n",
              "  </svg>\n",
              "    </button>\n",
              "\n",
              "  <style>\n",
              "    .colab-df-container {\n",
              "      display:flex;\n",
              "      gap: 12px;\n",
              "    }\n",
              "\n",
              "    .colab-df-convert {\n",
              "      background-color: #E8F0FE;\n",
              "      border: none;\n",
              "      border-radius: 50%;\n",
              "      cursor: pointer;\n",
              "      display: none;\n",
              "      fill: #1967D2;\n",
              "      height: 32px;\n",
              "      padding: 0 0 0 0;\n",
              "      width: 32px;\n",
              "    }\n",
              "\n",
              "    .colab-df-convert:hover {\n",
              "      background-color: #E2EBFA;\n",
              "      box-shadow: 0px 1px 2px rgba(60, 64, 67, 0.3), 0px 1px 3px 1px rgba(60, 64, 67, 0.15);\n",
              "      fill: #174EA6;\n",
              "    }\n",
              "\n",
              "    .colab-df-buttons div {\n",
              "      margin-bottom: 4px;\n",
              "    }\n",
              "\n",
              "    [theme=dark] .colab-df-convert {\n",
              "      background-color: #3B4455;\n",
              "      fill: #D2E3FC;\n",
              "    }\n",
              "\n",
              "    [theme=dark] .colab-df-convert:hover {\n",
              "      background-color: #434B5C;\n",
              "      box-shadow: 0px 1px 3px 1px rgba(0, 0, 0, 0.15);\n",
              "      filter: drop-shadow(0px 1px 2px rgba(0, 0, 0, 0.3));\n",
              "      fill: #FFFFFF;\n",
              "    }\n",
              "  </style>\n",
              "\n",
              "    <script>\n",
              "      const buttonEl =\n",
              "        document.querySelector('#df-969dbcc8-2d9a-4f35-9a04-cadab42e7446 button.colab-df-convert');\n",
              "      buttonEl.style.display =\n",
              "        google.colab.kernel.accessAllowed ? 'block' : 'none';\n",
              "\n",
              "      async function convertToInteractive(key) {\n",
              "        const element = document.querySelector('#df-969dbcc8-2d9a-4f35-9a04-cadab42e7446');\n",
              "        const dataTable =\n",
              "          await google.colab.kernel.invokeFunction('convertToInteractive',\n",
              "                                                    [key], {});\n",
              "        if (!dataTable) return;\n",
              "\n",
              "        const docLinkHtml = 'Like what you see? Visit the ' +\n",
              "          '<a target=\"_blank\" href=https://colab.research.google.com/notebooks/data_table.ipynb>data table notebook</a>'\n",
              "          + ' to learn more about interactive tables.';\n",
              "        element.innerHTML = '';\n",
              "        dataTable['output_type'] = 'display_data';\n",
              "        await google.colab.output.renderOutput(dataTable, element);\n",
              "        const docLink = document.createElement('div');\n",
              "        docLink.innerHTML = docLinkHtml;\n",
              "        element.appendChild(docLink);\n",
              "      }\n",
              "    </script>\n",
              "  </div>\n",
              "\n",
              "\n",
              "    <div id=\"df-0383f6e8-30d6-4a74-967e-3d42165736f2\">\n",
              "      <button class=\"colab-df-quickchart\" onclick=\"quickchart('df-0383f6e8-30d6-4a74-967e-3d42165736f2')\"\n",
              "                title=\"Suggest charts\"\n",
              "                style=\"display:none;\">\n",
              "\n",
              "<svg xmlns=\"http://www.w3.org/2000/svg\" height=\"24px\"viewBox=\"0 0 24 24\"\n",
              "     width=\"24px\">\n",
              "    <g>\n",
              "        <path d=\"M19 3H5c-1.1 0-2 .9-2 2v14c0 1.1.9 2 2 2h14c1.1 0 2-.9 2-2V5c0-1.1-.9-2-2-2zM9 17H7v-7h2v7zm4 0h-2V7h2v10zm4 0h-2v-4h2v4z\"/>\n",
              "    </g>\n",
              "</svg>\n",
              "      </button>\n",
              "\n",
              "<style>\n",
              "  .colab-df-quickchart {\n",
              "      --bg-color: #E8F0FE;\n",
              "      --fill-color: #1967D2;\n",
              "      --hover-bg-color: #E2EBFA;\n",
              "      --hover-fill-color: #174EA6;\n",
              "      --disabled-fill-color: #AAA;\n",
              "      --disabled-bg-color: #DDD;\n",
              "  }\n",
              "\n",
              "  [theme=dark] .colab-df-quickchart {\n",
              "      --bg-color: #3B4455;\n",
              "      --fill-color: #D2E3FC;\n",
              "      --hover-bg-color: #434B5C;\n",
              "      --hover-fill-color: #FFFFFF;\n",
              "      --disabled-bg-color: #3B4455;\n",
              "      --disabled-fill-color: #666;\n",
              "  }\n",
              "\n",
              "  .colab-df-quickchart {\n",
              "    background-color: var(--bg-color);\n",
              "    border: none;\n",
              "    border-radius: 50%;\n",
              "    cursor: pointer;\n",
              "    display: none;\n",
              "    fill: var(--fill-color);\n",
              "    height: 32px;\n",
              "    padding: 0;\n",
              "    width: 32px;\n",
              "  }\n",
              "\n",
              "  .colab-df-quickchart:hover {\n",
              "    background-color: var(--hover-bg-color);\n",
              "    box-shadow: 0 1px 2px rgba(60, 64, 67, 0.3), 0 1px 3px 1px rgba(60, 64, 67, 0.15);\n",
              "    fill: var(--button-hover-fill-color);\n",
              "  }\n",
              "\n",
              "  .colab-df-quickchart-complete:disabled,\n",
              "  .colab-df-quickchart-complete:disabled:hover {\n",
              "    background-color: var(--disabled-bg-color);\n",
              "    fill: var(--disabled-fill-color);\n",
              "    box-shadow: none;\n",
              "  }\n",
              "\n",
              "  .colab-df-spinner {\n",
              "    border: 2px solid var(--fill-color);\n",
              "    border-color: transparent;\n",
              "    border-bottom-color: var(--fill-color);\n",
              "    animation:\n",
              "      spin 1s steps(1) infinite;\n",
              "  }\n",
              "\n",
              "  @keyframes spin {\n",
              "    0% {\n",
              "      border-color: transparent;\n",
              "      border-bottom-color: var(--fill-color);\n",
              "      border-left-color: var(--fill-color);\n",
              "    }\n",
              "    20% {\n",
              "      border-color: transparent;\n",
              "      border-left-color: var(--fill-color);\n",
              "      border-top-color: var(--fill-color);\n",
              "    }\n",
              "    30% {\n",
              "      border-color: transparent;\n",
              "      border-left-color: var(--fill-color);\n",
              "      border-top-color: var(--fill-color);\n",
              "      border-right-color: var(--fill-color);\n",
              "    }\n",
              "    40% {\n",
              "      border-color: transparent;\n",
              "      border-right-color: var(--fill-color);\n",
              "      border-top-color: var(--fill-color);\n",
              "    }\n",
              "    60% {\n",
              "      border-color: transparent;\n",
              "      border-right-color: var(--fill-color);\n",
              "    }\n",
              "    80% {\n",
              "      border-color: transparent;\n",
              "      border-right-color: var(--fill-color);\n",
              "      border-bottom-color: var(--fill-color);\n",
              "    }\n",
              "    90% {\n",
              "      border-color: transparent;\n",
              "      border-bottom-color: var(--fill-color);\n",
              "    }\n",
              "  }\n",
              "</style>\n",
              "\n",
              "      <script>\n",
              "        async function quickchart(key) {\n",
              "          const quickchartButtonEl =\n",
              "            document.querySelector('#' + key + ' button');\n",
              "          quickchartButtonEl.disabled = true;  // To prevent multiple clicks.\n",
              "          quickchartButtonEl.classList.add('colab-df-spinner');\n",
              "          try {\n",
              "            const charts = await google.colab.kernel.invokeFunction(\n",
              "                'suggestCharts', [key], {});\n",
              "          } catch (error) {\n",
              "            console.error('Error during call to suggestCharts:', error);\n",
              "          }\n",
              "          quickchartButtonEl.classList.remove('colab-df-spinner');\n",
              "          quickchartButtonEl.classList.add('colab-df-quickchart-complete');\n",
              "        }\n",
              "        (() => {\n",
              "          let quickchartButtonEl =\n",
              "            document.querySelector('#df-0383f6e8-30d6-4a74-967e-3d42165736f2 button');\n",
              "          quickchartButtonEl.style.display =\n",
              "            google.colab.kernel.accessAllowed ? 'block' : 'none';\n",
              "        })();\n",
              "      </script>\n",
              "    </div>\n",
              "\n",
              "    </div>\n",
              "  </div>\n"
            ],
            "application/vnd.google.colaboratory.intrinsic+json": {
              "type": "dataframe",
              "summary": "{\n  \"name\": \"#df[df\",\n  \"rows\": 5,\n  \"fields\": [\n    {\n      \"column\": \"2014\",\n      \"properties\": {\n        \"dtype\": \"number\",\n        \"std\": 19412.43612180089,\n        \"min\": 100.5,\n        \"max\": 40000.0,\n        \"num_unique_values\": 5,\n        \"samples\": [\n          150.8,\n          40000.0,\n          200.9\n        ],\n        \"semantic_type\": \"\",\n        \"description\": \"\"\n      }\n    },\n    {\n      \"column\": \"2015\",\n      \"properties\": {\n        \"dtype\": \"number\",\n        \"std\": 12759,\n        \"min\": 12000,\n        \"max\": 45000,\n        \"num_unique_values\": 5,\n        \"samples\": [\n          18000,\n          45000,\n          22000\n        ],\n        \"semantic_type\": \"\",\n        \"description\": \"\"\n      }\n    }\n  ]\n}"
            }
          },
          "metadata": {},
          "execution_count": 6
        }
      ]
    },
    {
      "cell_type": "code",
      "source": [
        "d={\"2018\":[160000,110000,500000,340000,900000]}\n",
        "df2=pd.DataFrame(d,index=[\"Madhu\",\"Kusum\",\"Kinshuk\",\"Ankit\",\"Shruti\"])\n",
        "print(df2)"
      ],
      "metadata": {
        "colab": {
          "base_uri": "https://localhost:8080/"
        },
        "id": "RXj8RvVM0VeY",
        "outputId": "91e0aadb-d4f5-440b-8aea-775ba9bee120"
      },
      "execution_count": null,
      "outputs": [
        {
          "output_type": "stream",
          "name": "stdout",
          "text": [
            "           2018\n",
            "Madhu    160000\n",
            "Kusum    110000\n",
            "Kinshuk  500000\n",
            "Ankit    340000\n",
            "Shruti   900000\n"
          ]
        }
      ]
    },
    {
      "cell_type": "code",
      "source": [
        "print(df2.empty)"
      ],
      "metadata": {
        "colab": {
          "base_uri": "https://localhost:8080/"
        },
        "id": "RKqyFEuM1DXw",
        "outputId": "a27b042d-2f47-45f4-ecb4-8ea811fed066"
      },
      "execution_count": null,
      "outputs": [
        {
          "output_type": "stream",
          "name": "stdout",
          "text": [
            "False\n"
          ]
        }
      ]
    },
    {
      "cell_type": "code",
      "source": [
        "#24-07-2025\n",
        "df3=pd.concat([df,df2],axis=1)\n",
        "print(df3)"
      ],
      "metadata": {
        "colab": {
          "base_uri": "https://localhost:8080/"
        },
        "id": "I0KNd_7Nofag",
        "outputId": "ec5a09ab-e9c6-4e00-dd2e-6d0b2c0a4eb6"
      },
      "execution_count": null,
      "outputs": [
        {
          "output_type": "stream",
          "name": "stdout",
          "text": [
            "            2014   2015    2016   2017    2018\n",
            "Madhu      100.5  12000   20000  50000  160000\n",
            "Kusum      150.8  18000   50000  60000  110000\n",
            "Kinshuk    200.9  22000   70000  70000  500000\n",
            "Ankit    30000.0  30000  100000  80000  340000\n",
            "Shruti   40000.0  45000  125000  90000  900000\n"
          ]
        }
      ]
    },
    {
      "cell_type": "code",
      "source": [
        "print(df3.T)"
      ],
      "metadata": {
        "colab": {
          "base_uri": "https://localhost:8080/"
        },
        "id": "_RtYrpJJpcg7",
        "outputId": "8b9375c3-8260-45de-f9bd-291e82a677a5"
      },
      "execution_count": null,
      "outputs": [
        {
          "output_type": "stream",
          "name": "stdout",
          "text": [
            "         Madhu     Kusum   Kinshuk     Ankit    Shruti\n",
            "2014     100.5     150.8     200.9   30000.0   40000.0\n",
            "2015   12000.0   18000.0   22000.0   30000.0   45000.0\n",
            "2016   20000.0   50000.0   70000.0  100000.0  125000.0\n",
            "2017   50000.0   60000.0   70000.0   80000.0   90000.0\n",
            "2018  160000.0  110000.0  500000.0  340000.0  900000.0\n"
          ]
        }
      ]
    },
    {
      "cell_type": "code",
      "source": [
        "print(df3['2017'])"
      ],
      "metadata": {
        "colab": {
          "base_uri": "https://localhost:8080/"
        },
        "id": "Jlpc2jJSpsP6",
        "outputId": "f78f5841-7052-403a-b1f2-69ec2eca12f9"
      },
      "execution_count": null,
      "outputs": [
        {
          "output_type": "stream",
          "name": "stdout",
          "text": [
            "Madhu      50000\n",
            "Kusum      60000\n",
            "Kinshuk    70000\n",
            "Ankit      80000\n",
            "Shruti     90000\n",
            "Name: 2017, dtype: int64\n"
          ]
        }
      ]
    },
    {
      "cell_type": "code",
      "source": [
        "print(df3.loc[['Madhu','Ankit'],['2017','2018']])"
      ],
      "metadata": {
        "colab": {
          "base_uri": "https://localhost:8080/"
        },
        "id": "YJuW8pW2p70a",
        "outputId": "f267c993-1b0b-4bbd-a49a-84c28d7a0bac"
      },
      "execution_count": null,
      "outputs": [
        {
          "output_type": "stream",
          "name": "stdout",
          "text": [
            "        2017    2018\n",
            "Madhu  50000  160000\n",
            "Ankit  80000  340000\n"
          ]
        }
      ]
    },
    {
      "cell_type": "code",
      "source": [
        "print(df3.loc[['Shruti'],['2016']])\n",
        "print(df3)"
      ],
      "metadata": {
        "colab": {
          "base_uri": "https://localhost:8080/"
        },
        "id": "FQQ7PMoBq4yy",
        "outputId": "ed88c28e-79a9-4f0d-9de2-10d0b31a464c"
      },
      "execution_count": null,
      "outputs": [
        {
          "output_type": "stream",
          "name": "stdout",
          "text": [
            "          2016\n",
            "Shruti  125000\n",
            "            2014   2015    2016   2017    2018\n",
            "Madhu      100.5  12000   20000  50000  160000\n",
            "Kusum      150.8  18000   50000  60000  110000\n",
            "Kinshuk    200.9  22000   70000  70000  500000\n",
            "Ankit    30000.0  30000  100000  80000  340000\n",
            "Shruti   40000.0  45000  125000  90000  900000\n"
          ]
        }
      ]
    },
    {
      "cell_type": "code",
      "source": [
        "#25-07-2025\n",
        "df3.loc['Sumeet']=[196.2, 37800, 52000, 78438, 38852]\n",
        "print(df3)"
      ],
      "metadata": {
        "colab": {
          "base_uri": "https://localhost:8080/"
        },
        "outputId": "98e9c45a-6dbd-44f7-d881-a3a7bea08576",
        "id": "ETO5S5ybotZO"
      },
      "execution_count": null,
      "outputs": [
        {
          "output_type": "stream",
          "name": "stdout",
          "text": [
            "            2014     2015      2016     2017      2018\n",
            "Madhu      100.5  12000.0   20000.0  50000.0  160000.0\n",
            "Kusum      150.8  18000.0   50000.0  60000.0  110000.0\n",
            "Kinshuk    200.9  22000.0   70000.0  70000.0  500000.0\n",
            "Ankit    30000.0  30000.0  100000.0  80000.0  340000.0\n",
            "Shruti   40000.0  45000.0  125000.0  90000.0  900000.0\n",
            "Sumeet     196.2  37800.0   52000.0  78438.0   38852.0\n"
          ]
        }
      ]
    },
    {
      "cell_type": "code",
      "source": [
        "df3=df3.drop('2014',axis=1)\n",
        "print(df3)"
      ],
      "metadata": {
        "colab": {
          "base_uri": "https://localhost:8080/"
        },
        "id": "iHvQnFPAE6lC",
        "outputId": "ec0379ee-10fb-464e-e041-d327f7d33276"
      },
      "execution_count": null,
      "outputs": [
        {
          "output_type": "stream",
          "name": "stdout",
          "text": [
            "            2015      2016     2017      2018\n",
            "Madhu    12000.0   20000.0  50000.0  160000.0\n",
            "Kusum    18000.0   50000.0  60000.0  110000.0\n",
            "Kinshuk  22000.0   70000.0  70000.0  500000.0\n",
            "Ankit    30000.0  100000.0  80000.0  340000.0\n",
            "Shruti   45000.0  125000.0  90000.0  900000.0\n",
            "Sumeet   37800.0   52000.0  78438.0   38852.0\n"
          ]
        }
      ]
    },
    {
      "cell_type": "code",
      "source": [
        "df3=df3.drop('Kinshuk')\n",
        "print(df3)"
      ],
      "metadata": {
        "colab": {
          "base_uri": "https://localhost:8080/"
        },
        "id": "9PDXsM0uTKoE",
        "outputId": "7727c952-8eff-46dc-c990-aeac59f96c57"
      },
      "execution_count": null,
      "outputs": [
        {
          "output_type": "stream",
          "name": "stdout",
          "text": [
            "           2015      2016     2017      2018\n",
            "Madhu   12000.0   20000.0  50000.0  160000.0\n",
            "Kusum   18000.0   50000.0  60000.0  110000.0\n",
            "Ankit   30000.0  100000.0  80000.0  340000.0\n",
            "Shruti  45000.0  125000.0  90000.0  900000.0\n",
            "Sumeet  37800.0   52000.0  78438.0   38852.0\n"
          ]
        }
      ]
    },
    {
      "cell_type": "code",
      "source": [
        "df3=df3.rename(index={'Ankit':\"Vivaan\",\"Madhu\":\"Sailesh\"})\n",
        "print(df3)"
      ],
      "metadata": {
        "colab": {
          "base_uri": "https://localhost:8080/"
        },
        "id": "GGhvUsExTc4J",
        "outputId": "f7b7a214-459e-4b01-ab79-981674b26c6b"
      },
      "execution_count": null,
      "outputs": [
        {
          "output_type": "stream",
          "name": "stdout",
          "text": [
            "            2015      2016     2017      2018\n",
            "Sailesh  12000.0   20000.0  50000.0  160000.0\n",
            "Kusum    18000.0   50000.0  60000.0  110000.0\n",
            "Vivaan   30000.0  100000.0  80000.0  340000.0\n",
            "Shruti   45000.0  125000.0  90000.0  900000.0\n",
            "Sumeet   37800.0   52000.0  78438.0   38852.0\n"
          ]
        }
      ]
    },
    {
      "cell_type": "code",
      "source": [
        "df3.loc['Sailesh','2018']=100000\n",
        "print(df3)"
      ],
      "metadata": {
        "colab": {
          "base_uri": "https://localhost:8080/"
        },
        "id": "E2nKCfgEUJxO",
        "outputId": "49ef53c5-d7f0-40e7-a3e4-b288fe50913c"
      },
      "execution_count": null,
      "outputs": [
        {
          "output_type": "stream",
          "name": "stdout",
          "text": [
            "            2015      2016     2017      2018\n",
            "Sailesh  12000.0   20000.0  50000.0  100000.0\n",
            "Kusum    18000.0   50000.0  60000.0  110000.0\n",
            "Vivaan   30000.0  100000.0  80000.0  340000.0\n",
            "Shruti   45000.0  125000.0  90000.0  900000.0\n",
            "Sumeet   37800.0   52000.0  78438.0   38852.0\n"
          ]
        }
      ]
    },
    {
      "cell_type": "code",
      "source": [
        "#28-07-2025\n",
        "df3.to_csv(\"SalesFigures.csv\",index=False,header=False)"
      ],
      "metadata": {
        "id": "K3_6wfXzPjAN"
      },
      "execution_count": null,
      "outputs": []
    },
    {
      "cell_type": "code",
      "source": [
        "r=pd.read_csv(\"SalesFigures.csv\",header=None)\n",
        "print(r)"
      ],
      "metadata": {
        "colab": {
          "base_uri": "https://localhost:8080/"
        },
        "id": "kxlbAjS_u-br",
        "outputId": "424de959-e3b0-411b-ca2c-d15bb30f7201"
      },
      "execution_count": null,
      "outputs": [
        {
          "output_type": "stream",
          "name": "stdout",
          "text": [
            "         0         1        2         3\n",
            "0  12000.0   20000.0  50000.0  100000.0\n",
            "1  18000.0   50000.0  60000.0  110000.0\n",
            "2  30000.0  100000.0  80000.0  340000.0\n",
            "3  45000.0  125000.0  90000.0  900000.0\n",
            "4  37800.0   52000.0  78438.0   38852.0\n"
          ]
        }
      ]
    },
    {
      "cell_type": "code",
      "source": [
        "r.index=[\"Sailesh\",\"Kusum\",\"Vivaan\",\"Shruti\",\"Summet\"]\n",
        "r.columns=[\"2015\",\"2016\",\"2017\",\"2018\"]\n",
        "print(r)"
      ],
      "metadata": {
        "colab": {
          "base_uri": "https://localhost:8080/"
        },
        "id": "aeTKf-jKvJKB",
        "outputId": "c0ef8943-76b2-47be-a525-ffed64bbf7ec"
      },
      "execution_count": null,
      "outputs": [
        {
          "output_type": "stream",
          "name": "stdout",
          "text": [
            "            2015      2016     2017      2018\n",
            "Sailesh  12000.0   20000.0  50000.0  100000.0\n",
            "Kusum    18000.0   50000.0  60000.0  110000.0\n",
            "Vivaan   30000.0  100000.0  80000.0  340000.0\n",
            "Shruti   45000.0  125000.0  90000.0  900000.0\n",
            "Summet   37800.0   52000.0  78438.0   38852.0\n"
          ]
        }
      ]
    },
    {
      "cell_type": "code",
      "source": [
        "data1={\n",
        "    \"Item\": [\"TV\", \"TV\", \"TV\", \"AC\"],\n",
        "    \"Company\": [\"LG\", \"VIDEOCON\", \"LG\", \"SONY\"],\n",
        "    \"Rupees\": [12000, 10000, 15000, 14000],\n",
        "    \"USD\": [700, 650, 800, 750]\n",
        "}\n",
        "product=pd.DataFrame(data1,columns=[\"Item\",\"Company\",\"Rupees\",\"USD\"])\n",
        "print(product)"
      ],
      "metadata": {
        "colab": {
          "base_uri": "https://localhost:8080/"
        },
        "id": "FRauF6k0yUzx",
        "outputId": "361da917-6b4a-47d7-b6c0-463d9ee684f3"
      },
      "execution_count": null,
      "outputs": [
        {
          "output_type": "stream",
          "name": "stdout",
          "text": [
            "  Item   Company  Rupees  USD\n",
            "0   TV        LG   12000  700\n",
            "1   TV  VIDEOCON   10000  650\n",
            "2   TV        LG   15000  800\n",
            "3   AC      SONY   14000  750\n"
          ]
        }
      ]
    },
    {
      "cell_type": "code",
      "source": [
        "d={\"Item\":\"Fridge\",\"Company\":'Samsung',\"Rupees\":18000,\"USD\":900}\n",
        "product=pd.concat([product,pd.DataFrame([d])],ignore_index=True)\n",
        "print(product)\n",
        "#product.loc[4]=[data]"
      ],
      "metadata": {
        "colab": {
          "base_uri": "https://localhost:8080/"
        },
        "id": "S8vSVjI4yiGY",
        "outputId": "5fed3194-eaa4-448e-959e-ba5dbd3721d6"
      },
      "execution_count": null,
      "outputs": [
        {
          "output_type": "stream",
          "name": "stdout",
          "text": [
            "     Item   Company  Rupees  USD\n",
            "0      TV        LG   12000  700\n",
            "1      TV  VIDEOCON   10000  650\n",
            "2      TV        LG   15000  800\n",
            "3      AC      SONY   14000  750\n",
            "4  Fridge   Samsung   18000  900\n"
          ]
        }
      ]
    },
    {
      "cell_type": "code",
      "source": [
        "print(product[(product['Item']==\"TV\") & (product['Company']==\"LG\")]['Rupees'].max())"
      ],
      "metadata": {
        "colab": {
          "base_uri": "https://localhost:8080/"
        },
        "id": "MEhZGMMh0LEJ",
        "outputId": "a84c11b6-7aa3-45ce-eeef-e9394365f7cf"
      },
      "execution_count": null,
      "outputs": [
        {
          "output_type": "stream",
          "name": "stdout",
          "text": [
            "15000\n"
          ]
        }
      ]
    },
    {
      "cell_type": "code",
      "source": [
        "print(\"sum of all products\")\n",
        "print(product['Rupees'].sum())"
      ],
      "metadata": {
        "colab": {
          "base_uri": "https://localhost:8080/"
        },
        "id": "k9wNCHWE6zc6",
        "outputId": "786ac73a-c53c-450e-e68f-20ce48f13a19"
      },
      "execution_count": null,
      "outputs": [
        {
          "output_type": "stream",
          "name": "stdout",
          "text": [
            "sum of all products\n",
            "69000\n"
          ]
        }
      ]
    },
    {
      "cell_type": "code",
      "source": [
        "#29-07-2025\n",
        "print(product[product['Company']==\"SONY\"][\"USD\"].median())"
      ],
      "metadata": {
        "colab": {
          "base_uri": "https://localhost:8080/"
        },
        "id": "jAbs-S2n7wdo",
        "outputId": "05a80b12-1d4a-4dca-83a0-ca8dab47f9ed"
      },
      "execution_count": null,
      "outputs": [
        {
          "output_type": "stream",
          "name": "stdout",
          "text": [
            "750.0\n"
          ]
        }
      ]
    },
    {
      "cell_type": "code",
      "source": [
        "s_product=product.sort_values(by=\"Rupees\",ascending=True)\n",
        "print(s_product)"
      ],
      "metadata": {
        "colab": {
          "base_uri": "https://localhost:8080/"
        },
        "id": "QNUiepag8S9H",
        "outputId": "a76f22a2-0be2-48a4-d0ac-8cdf16fd3345"
      },
      "execution_count": null,
      "outputs": [
        {
          "output_type": "stream",
          "name": "stdout",
          "text": [
            "     Item   Company  Rupees  USD\n",
            "1      TV  VIDEOCON   10000  650\n",
            "0      TV        LG   12000  700\n",
            "3      AC      SONY   14000  750\n",
            "2      TV        LG   15000  800\n",
            "4  Fridge   Samsung   18000  900\n"
          ]
        }
      ]
    },
    {
      "cell_type": "code",
      "source": [
        "!pip install pymysql"
      ],
      "metadata": {
        "colab": {
          "base_uri": "https://localhost:8080/"
        },
        "id": "cXiblgTpESQ8",
        "outputId": "5bc0c51e-8cda-4a41-8e25-9f2c8076efa1"
      },
      "execution_count": null,
      "outputs": [
        {
          "output_type": "stream",
          "name": "stdout",
          "text": [
            "Collecting pymysql\n",
            "  Downloading PyMySQL-1.1.1-py3-none-any.whl.metadata (4.4 kB)\n",
            "Downloading PyMySQL-1.1.1-py3-none-any.whl (44 kB)\n",
            "\u001b[?25l   \u001b[90m━━━━━━━━━━━━━━━━━━━━━━━━━━━━━━━━━━━━━━━━\u001b[0m \u001b[32m0.0/45.0 kB\u001b[0m \u001b[31m?\u001b[0m eta \u001b[36m-:--:--\u001b[0m\r\u001b[2K   \u001b[90m━━━━━━━━━━━━━━━━━━━━━━━━━━━━━━━━━━━━━━━━\u001b[0m \u001b[32m45.0/45.0 kB\u001b[0m \u001b[31m2.6 MB/s\u001b[0m eta \u001b[36m0:00:00\u001b[0m\n",
            "\u001b[?25hInstalling collected packages: pymysql\n",
            "Successfully installed pymysql-1.1.1\n"
          ]
        }
      ]
    },
    {
      "cell_type": "code",
      "source": [
        "import sqlite3\n",
        "conn = sqlite3.connect(\"products.db\")\n",
        "cursor = conn.cursor()\n",
        "cursor.execute(\"CREATE TABLE IF NOT EXISTS product (Item TEXT, Company TEXT, Rupees REAL, USD REAL)\")\n",
        "for i, row in df.iterrows():\n",
        "    cursor.execute(\"INSERT INTO product (Item, Company, Rupees, USD) VALUES (?, ?, ?, ?)\", tuple(row))\n",
        "conn.commit()\n",
        "conn.close()\n"
      ],
      "metadata": {
        "id": "e_DGfheWBqYS"
      },
      "execution_count": null,
      "outputs": []
    },
    {
      "cell_type": "code",
      "source": [
        "import numpy as np\n",
        "data = {\n",
        "    'Name': ['Amit', 'Sneha', 'Ravi', 'Pooja', 'Manish'],\n",
        "    'Degree': ['MBA', 'MBA', 'BCA', 'BCA', 'MBA'],\n",
        "    'Stream': ['HR', 'Finance', 'IT', 'IT', 'HR'],\n",
        "    'Marks': [78, np.nan, 84, 76, 89]\n",
        "}\n",
        "df = pd.DataFrame(data)\n",
        "print(df)"
      ],
      "metadata": {
        "colab": {
          "base_uri": "https://localhost:8080/"
        },
        "id": "_fhDIYCSFlhB",
        "outputId": "a525f2f7-1dfe-4b35-bc11-f5037ef889aa"
      },
      "execution_count": null,
      "outputs": [
        {
          "output_type": "stream",
          "name": "stdout",
          "text": [
            "     Name Degree   Stream  Marks\n",
            "0    Amit    MBA       HR   78.0\n",
            "1   Sneha    MBA  Finance    NaN\n",
            "2    Ravi    BCA       IT   84.0\n",
            "3   Pooja    BCA       IT   76.0\n",
            "4  Manish    MBA       HR   89.0\n"
          ]
        }
      ]
    },
    {
      "cell_type": "code",
      "source": [
        "print(df.groupby('Stream')['Marks'].max())"
      ],
      "metadata": {
        "colab": {
          "base_uri": "https://localhost:8080/"
        },
        "id": "4IhhWuPWHB29",
        "outputId": "feffb3ad-cf40-4133-c5b2-f9b6c022e71d"
      },
      "execution_count": null,
      "outputs": [
        {
          "output_type": "stream",
          "name": "stdout",
          "text": [
            "Stream\n",
            "Finance     NaN\n",
            "HR         89.0\n",
            "IT         84.0\n",
            "Name: Marks, dtype: float64\n"
          ]
        }
      ]
    },
    {
      "cell_type": "code",
      "source": [
        "df['Marks'].fillna(76,inplace=True)\n",
        "print(df)"
      ],
      "metadata": {
        "colab": {
          "base_uri": "https://localhost:8080/"
        },
        "id": "0FwrXux4HTnM",
        "outputId": "68e0d6f4-ff0f-41d0-91ca-f9451dd2a99d"
      },
      "execution_count": null,
      "outputs": [
        {
          "output_type": "stream",
          "name": "stdout",
          "text": [
            "     Name Degree   Stream  Marks\n",
            "0    Amit    MBA       HR   78.0\n",
            "1   Sneha    MBA  Finance   76.0\n",
            "2    Ravi    BCA       IT   84.0\n",
            "3   Pooja    BCA       IT   76.0\n",
            "4  Manish    MBA       HR   89.0\n"
          ]
        },
        {
          "output_type": "stream",
          "name": "stderr",
          "text": [
            "/tmp/ipython-input-42-1205099632.py:1: FutureWarning: A value is trying to be set on a copy of a DataFrame or Series through chained assignment using an inplace method.\n",
            "The behavior will change in pandas 3.0. This inplace method will never work because the intermediate object on which we are setting values always behaves as a copy.\n",
            "\n",
            "For example, when doing 'df[col].method(value, inplace=True)', try using 'df.method({col: value}, inplace=True)' or df[col] = df[col].method(value) instead, to perform the operation inplace on the original object.\n",
            "\n",
            "\n",
            "  df['Marks'].fillna(76,inplace=True)\n"
          ]
        }
      ]
    },
    {
      "cell_type": "code",
      "source": [
        "df.set_index('Name',inplace=True)\n",
        "print(df)"
      ],
      "metadata": {
        "colab": {
          "base_uri": "https://localhost:8080/"
        },
        "id": "ZK3cmTTZH_PI",
        "outputId": "eb403849-6737-4b2b-eb39-9ea1ffe35f0f"
      },
      "execution_count": null,
      "outputs": [
        {
          "output_type": "stream",
          "name": "stdout",
          "text": [
            "       Degree   Stream  Marks\n",
            "Name                         \n",
            "Amit      MBA       HR   78.0\n",
            "Sneha     MBA  Finance   76.0\n",
            "Ravi      BCA       IT   84.0\n",
            "Pooja     BCA       IT   76.0\n",
            "Manish    MBA       HR   89.0\n"
          ]
        }
      ]
    },
    {
      "cell_type": "code",
      "source": [
        "print(df.groupby(['Name','Degree'])['Marks'].mean())"
      ],
      "metadata": {
        "colab": {
          "base_uri": "https://localhost:8080/"
        },
        "id": "GTPzC7idINUI",
        "outputId": "3382cb85-a532-427d-ba97-3e3d543cff2e"
      },
      "execution_count": null,
      "outputs": [
        {
          "output_type": "stream",
          "name": "stdout",
          "text": [
            "Name    Degree\n",
            "Amit    MBA       78.0\n",
            "Manish  MBA       89.0\n",
            "Pooja   BCA       76.0\n",
            "Ravi    BCA       84.0\n",
            "Sneha   MBA       76.0\n",
            "Name: Marks, dtype: float64\n"
          ]
        }
      ]
    },
    {
      "cell_type": "code",
      "source": [
        "print(len(df[df['Degree']=='MBA']))"
      ],
      "metadata": {
        "colab": {
          "base_uri": "https://localhost:8080/"
        },
        "id": "nrxZuItAJfUa",
        "outputId": "2462c555-0c2d-4f76-f75f-84f6144c4e48"
      },
      "execution_count": null,
      "outputs": [
        {
          "output_type": "stream",
          "name": "stdout",
          "text": [
            "3\n"
          ]
        }
      ]
    },
    {
      "cell_type": "code",
      "source": [
        "print(df[df['Degree']=='BCA']['Marks'].mode())"
      ],
      "metadata": {
        "colab": {
          "base_uri": "https://localhost:8080/"
        },
        "id": "vSChl7_JJsxs",
        "outputId": "fcc0809d-7825-4458-fb0e-c53d1965aec7"
      },
      "execution_count": null,
      "outputs": [
        {
          "output_type": "stream",
          "name": "stdout",
          "text": [
            "0    76.0\n",
            "1    84.0\n",
            "Name: Marks, dtype: float64\n"
          ]
        }
      ]
    },
    {
      "cell_type": "code",
      "source": [
        "#30-07-2025\n",
        "from google.colab import files\n",
        "uploaded=files.upload()"
      ],
      "metadata": {
        "id": "PdD0LE_YRE8r",
        "colab": {
          "base_uri": "https://localhost:8080/",
          "height": 73
        },
        "outputId": "7ad6f9bc-6128-433a-9a65-3c11017ea5d9"
      },
      "execution_count": null,
      "outputs": [
        {
          "output_type": "display_data",
          "data": {
            "text/plain": [
              "<IPython.core.display.HTML object>"
            ],
            "text/html": [
              "\n",
              "     <input type=\"file\" id=\"files-4668f229-e3ed-4b77-8c8a-8b0f69b31068\" name=\"files[]\" multiple disabled\n",
              "        style=\"border:none\" />\n",
              "     <output id=\"result-4668f229-e3ed-4b77-8c8a-8b0f69b31068\">\n",
              "      Upload widget is only available when the cell has been executed in the\n",
              "      current browser session. Please rerun this cell to enable.\n",
              "      </output>\n",
              "      <script>// Copyright 2017 Google LLC\n",
              "//\n",
              "// Licensed under the Apache License, Version 2.0 (the \"License\");\n",
              "// you may not use this file except in compliance with the License.\n",
              "// You may obtain a copy of the License at\n",
              "//\n",
              "//      http://www.apache.org/licenses/LICENSE-2.0\n",
              "//\n",
              "// Unless required by applicable law or agreed to in writing, software\n",
              "// distributed under the License is distributed on an \"AS IS\" BASIS,\n",
              "// WITHOUT WARRANTIES OR CONDITIONS OF ANY KIND, either express or implied.\n",
              "// See the License for the specific language governing permissions and\n",
              "// limitations under the License.\n",
              "\n",
              "/**\n",
              " * @fileoverview Helpers for google.colab Python module.\n",
              " */\n",
              "(function(scope) {\n",
              "function span(text, styleAttributes = {}) {\n",
              "  const element = document.createElement('span');\n",
              "  element.textContent = text;\n",
              "  for (const key of Object.keys(styleAttributes)) {\n",
              "    element.style[key] = styleAttributes[key];\n",
              "  }\n",
              "  return element;\n",
              "}\n",
              "\n",
              "// Max number of bytes which will be uploaded at a time.\n",
              "const MAX_PAYLOAD_SIZE = 100 * 1024;\n",
              "\n",
              "function _uploadFiles(inputId, outputId) {\n",
              "  const steps = uploadFilesStep(inputId, outputId);\n",
              "  const outputElement = document.getElementById(outputId);\n",
              "  // Cache steps on the outputElement to make it available for the next call\n",
              "  // to uploadFilesContinue from Python.\n",
              "  outputElement.steps = steps;\n",
              "\n",
              "  return _uploadFilesContinue(outputId);\n",
              "}\n",
              "\n",
              "// This is roughly an async generator (not supported in the browser yet),\n",
              "// where there are multiple asynchronous steps and the Python side is going\n",
              "// to poll for completion of each step.\n",
              "// This uses a Promise to block the python side on completion of each step,\n",
              "// then passes the result of the previous step as the input to the next step.\n",
              "function _uploadFilesContinue(outputId) {\n",
              "  const outputElement = document.getElementById(outputId);\n",
              "  const steps = outputElement.steps;\n",
              "\n",
              "  const next = steps.next(outputElement.lastPromiseValue);\n",
              "  return Promise.resolve(next.value.promise).then((value) => {\n",
              "    // Cache the last promise value to make it available to the next\n",
              "    // step of the generator.\n",
              "    outputElement.lastPromiseValue = value;\n",
              "    return next.value.response;\n",
              "  });\n",
              "}\n",
              "\n",
              "/**\n",
              " * Generator function which is called between each async step of the upload\n",
              " * process.\n",
              " * @param {string} inputId Element ID of the input file picker element.\n",
              " * @param {string} outputId Element ID of the output display.\n",
              " * @return {!Iterable<!Object>} Iterable of next steps.\n",
              " */\n",
              "function* uploadFilesStep(inputId, outputId) {\n",
              "  const inputElement = document.getElementById(inputId);\n",
              "  inputElement.disabled = false;\n",
              "\n",
              "  const outputElement = document.getElementById(outputId);\n",
              "  outputElement.innerHTML = '';\n",
              "\n",
              "  const pickedPromise = new Promise((resolve) => {\n",
              "    inputElement.addEventListener('change', (e) => {\n",
              "      resolve(e.target.files);\n",
              "    });\n",
              "  });\n",
              "\n",
              "  const cancel = document.createElement('button');\n",
              "  inputElement.parentElement.appendChild(cancel);\n",
              "  cancel.textContent = 'Cancel upload';\n",
              "  const cancelPromise = new Promise((resolve) => {\n",
              "    cancel.onclick = () => {\n",
              "      resolve(null);\n",
              "    };\n",
              "  });\n",
              "\n",
              "  // Wait for the user to pick the files.\n",
              "  const files = yield {\n",
              "    promise: Promise.race([pickedPromise, cancelPromise]),\n",
              "    response: {\n",
              "      action: 'starting',\n",
              "    }\n",
              "  };\n",
              "\n",
              "  cancel.remove();\n",
              "\n",
              "  // Disable the input element since further picks are not allowed.\n",
              "  inputElement.disabled = true;\n",
              "\n",
              "  if (!files) {\n",
              "    return {\n",
              "      response: {\n",
              "        action: 'complete',\n",
              "      }\n",
              "    };\n",
              "  }\n",
              "\n",
              "  for (const file of files) {\n",
              "    const li = document.createElement('li');\n",
              "    li.append(span(file.name, {fontWeight: 'bold'}));\n",
              "    li.append(span(\n",
              "        `(${file.type || 'n/a'}) - ${file.size} bytes, ` +\n",
              "        `last modified: ${\n",
              "            file.lastModifiedDate ? file.lastModifiedDate.toLocaleDateString() :\n",
              "                                    'n/a'} - `));\n",
              "    const percent = span('0% done');\n",
              "    li.appendChild(percent);\n",
              "\n",
              "    outputElement.appendChild(li);\n",
              "\n",
              "    const fileDataPromise = new Promise((resolve) => {\n",
              "      const reader = new FileReader();\n",
              "      reader.onload = (e) => {\n",
              "        resolve(e.target.result);\n",
              "      };\n",
              "      reader.readAsArrayBuffer(file);\n",
              "    });\n",
              "    // Wait for the data to be ready.\n",
              "    let fileData = yield {\n",
              "      promise: fileDataPromise,\n",
              "      response: {\n",
              "        action: 'continue',\n",
              "      }\n",
              "    };\n",
              "\n",
              "    // Use a chunked sending to avoid message size limits. See b/62115660.\n",
              "    let position = 0;\n",
              "    do {\n",
              "      const length = Math.min(fileData.byteLength - position, MAX_PAYLOAD_SIZE);\n",
              "      const chunk = new Uint8Array(fileData, position, length);\n",
              "      position += length;\n",
              "\n",
              "      const base64 = btoa(String.fromCharCode.apply(null, chunk));\n",
              "      yield {\n",
              "        response: {\n",
              "          action: 'append',\n",
              "          file: file.name,\n",
              "          data: base64,\n",
              "        },\n",
              "      };\n",
              "\n",
              "      let percentDone = fileData.byteLength === 0 ?\n",
              "          100 :\n",
              "          Math.round((position / fileData.byteLength) * 100);\n",
              "      percent.textContent = `${percentDone}% done`;\n",
              "\n",
              "    } while (position < fileData.byteLength);\n",
              "  }\n",
              "\n",
              "  // All done.\n",
              "  yield {\n",
              "    response: {\n",
              "      action: 'complete',\n",
              "    }\n",
              "  };\n",
              "}\n",
              "\n",
              "scope.google = scope.google || {};\n",
              "scope.google.colab = scope.google.colab || {};\n",
              "scope.google.colab._files = {\n",
              "  _uploadFiles,\n",
              "  _uploadFilesContinue,\n",
              "};\n",
              "})(self);\n",
              "</script> "
            ]
          },
          "metadata": {}
        },
        {
          "output_type": "stream",
          "name": "stdout",
          "text": [
            "Saving ai_assistant_usage_student_life.csv to ai_assistant_usage_student_life.csv\n"
          ]
        }
      ]
    },
    {
      "cell_type": "code",
      "source": [
        "import pandas as pd\n",
        "df=pd.read_csv(\"ai_assistant_usage_student_life.csv\")\n",
        "df.head()"
      ],
      "metadata": {
        "colab": {
          "base_uri": "https://localhost:8080/",
          "height": 313
        },
        "id": "Fgg01zzEoYtm",
        "outputId": "8f06133e-9e26-4213-9287-26b3158b0cc0"
      },
      "execution_count": null,
      "outputs": [
        {
          "output_type": "execute_result",
          "data": {
            "text/plain": [
              "      SessionID   StudentLevel        Discipline SessionDate  \\\n",
              "0  SESSION00001  Undergraduate  Computer Science  2024-11-03   \n",
              "1  SESSION00002  Undergraduate        Psychology  2024-08-25   \n",
              "2  SESSION00003  Undergraduate          Business  2025-01-12   \n",
              "3  SESSION00004  Undergraduate  Computer Science  2025-05-06   \n",
              "4  SESSION00005  Undergraduate        Psychology  2025-03-18   \n",
              "\n",
              "   SessionLengthMin  TotalPrompts  TaskType  AI_AssistanceLevel  \\\n",
              "0             31.20            11  Studying                   2   \n",
              "1             13.09             6  Studying                   3   \n",
              "2             19.22             5    Coding                   3   \n",
              "3              3.70             1    Coding                   3   \n",
              "4             28.12             9   Writing                   3   \n",
              "\n",
              "           FinalOutcome  UsedAgain  SatisfactionRating  \n",
              "0  Assignment Completed       True                 1.0  \n",
              "1  Assignment Completed       True                 2.0  \n",
              "2  Assignment Completed       True                 3.3  \n",
              "3  Assignment Completed       True                 3.5  \n",
              "4  Assignment Completed       True                 2.9  "
            ],
            "text/html": [
              "\n",
              "  <div id=\"df-f89a0abd-4f79-4c3a-aa93-f4e9c0c37321\" class=\"colab-df-container\">\n",
              "    <div>\n",
              "<style scoped>\n",
              "    .dataframe tbody tr th:only-of-type {\n",
              "        vertical-align: middle;\n",
              "    }\n",
              "\n",
              "    .dataframe tbody tr th {\n",
              "        vertical-align: top;\n",
              "    }\n",
              "\n",
              "    .dataframe thead th {\n",
              "        text-align: right;\n",
              "    }\n",
              "</style>\n",
              "<table border=\"1\" class=\"dataframe\">\n",
              "  <thead>\n",
              "    <tr style=\"text-align: right;\">\n",
              "      <th></th>\n",
              "      <th>SessionID</th>\n",
              "      <th>StudentLevel</th>\n",
              "      <th>Discipline</th>\n",
              "      <th>SessionDate</th>\n",
              "      <th>SessionLengthMin</th>\n",
              "      <th>TotalPrompts</th>\n",
              "      <th>TaskType</th>\n",
              "      <th>AI_AssistanceLevel</th>\n",
              "      <th>FinalOutcome</th>\n",
              "      <th>UsedAgain</th>\n",
              "      <th>SatisfactionRating</th>\n",
              "    </tr>\n",
              "  </thead>\n",
              "  <tbody>\n",
              "    <tr>\n",
              "      <th>0</th>\n",
              "      <td>SESSION00001</td>\n",
              "      <td>Undergraduate</td>\n",
              "      <td>Computer Science</td>\n",
              "      <td>2024-11-03</td>\n",
              "      <td>31.20</td>\n",
              "      <td>11</td>\n",
              "      <td>Studying</td>\n",
              "      <td>2</td>\n",
              "      <td>Assignment Completed</td>\n",
              "      <td>True</td>\n",
              "      <td>1.0</td>\n",
              "    </tr>\n",
              "    <tr>\n",
              "      <th>1</th>\n",
              "      <td>SESSION00002</td>\n",
              "      <td>Undergraduate</td>\n",
              "      <td>Psychology</td>\n",
              "      <td>2024-08-25</td>\n",
              "      <td>13.09</td>\n",
              "      <td>6</td>\n",
              "      <td>Studying</td>\n",
              "      <td>3</td>\n",
              "      <td>Assignment Completed</td>\n",
              "      <td>True</td>\n",
              "      <td>2.0</td>\n",
              "    </tr>\n",
              "    <tr>\n",
              "      <th>2</th>\n",
              "      <td>SESSION00003</td>\n",
              "      <td>Undergraduate</td>\n",
              "      <td>Business</td>\n",
              "      <td>2025-01-12</td>\n",
              "      <td>19.22</td>\n",
              "      <td>5</td>\n",
              "      <td>Coding</td>\n",
              "      <td>3</td>\n",
              "      <td>Assignment Completed</td>\n",
              "      <td>True</td>\n",
              "      <td>3.3</td>\n",
              "    </tr>\n",
              "    <tr>\n",
              "      <th>3</th>\n",
              "      <td>SESSION00004</td>\n",
              "      <td>Undergraduate</td>\n",
              "      <td>Computer Science</td>\n",
              "      <td>2025-05-06</td>\n",
              "      <td>3.70</td>\n",
              "      <td>1</td>\n",
              "      <td>Coding</td>\n",
              "      <td>3</td>\n",
              "      <td>Assignment Completed</td>\n",
              "      <td>True</td>\n",
              "      <td>3.5</td>\n",
              "    </tr>\n",
              "    <tr>\n",
              "      <th>4</th>\n",
              "      <td>SESSION00005</td>\n",
              "      <td>Undergraduate</td>\n",
              "      <td>Psychology</td>\n",
              "      <td>2025-03-18</td>\n",
              "      <td>28.12</td>\n",
              "      <td>9</td>\n",
              "      <td>Writing</td>\n",
              "      <td>3</td>\n",
              "      <td>Assignment Completed</td>\n",
              "      <td>True</td>\n",
              "      <td>2.9</td>\n",
              "    </tr>\n",
              "  </tbody>\n",
              "</table>\n",
              "</div>\n",
              "    <div class=\"colab-df-buttons\">\n",
              "\n",
              "  <div class=\"colab-df-container\">\n",
              "    <button class=\"colab-df-convert\" onclick=\"convertToInteractive('df-f89a0abd-4f79-4c3a-aa93-f4e9c0c37321')\"\n",
              "            title=\"Convert this dataframe to an interactive table.\"\n",
              "            style=\"display:none;\">\n",
              "\n",
              "  <svg xmlns=\"http://www.w3.org/2000/svg\" height=\"24px\" viewBox=\"0 -960 960 960\">\n",
              "    <path d=\"M120-120v-720h720v720H120Zm60-500h600v-160H180v160Zm220 220h160v-160H400v160Zm0 220h160v-160H400v160ZM180-400h160v-160H180v160Zm440 0h160v-160H620v160ZM180-180h160v-160H180v160Zm440 0h160v-160H620v160Z\"/>\n",
              "  </svg>\n",
              "    </button>\n",
              "\n",
              "  <style>\n",
              "    .colab-df-container {\n",
              "      display:flex;\n",
              "      gap: 12px;\n",
              "    }\n",
              "\n",
              "    .colab-df-convert {\n",
              "      background-color: #E8F0FE;\n",
              "      border: none;\n",
              "      border-radius: 50%;\n",
              "      cursor: pointer;\n",
              "      display: none;\n",
              "      fill: #1967D2;\n",
              "      height: 32px;\n",
              "      padding: 0 0 0 0;\n",
              "      width: 32px;\n",
              "    }\n",
              "\n",
              "    .colab-df-convert:hover {\n",
              "      background-color: #E2EBFA;\n",
              "      box-shadow: 0px 1px 2px rgba(60, 64, 67, 0.3), 0px 1px 3px 1px rgba(60, 64, 67, 0.15);\n",
              "      fill: #174EA6;\n",
              "    }\n",
              "\n",
              "    .colab-df-buttons div {\n",
              "      margin-bottom: 4px;\n",
              "    }\n",
              "\n",
              "    [theme=dark] .colab-df-convert {\n",
              "      background-color: #3B4455;\n",
              "      fill: #D2E3FC;\n",
              "    }\n",
              "\n",
              "    [theme=dark] .colab-df-convert:hover {\n",
              "      background-color: #434B5C;\n",
              "      box-shadow: 0px 1px 3px 1px rgba(0, 0, 0, 0.15);\n",
              "      filter: drop-shadow(0px 1px 2px rgba(0, 0, 0, 0.3));\n",
              "      fill: #FFFFFF;\n",
              "    }\n",
              "  </style>\n",
              "\n",
              "    <script>\n",
              "      const buttonEl =\n",
              "        document.querySelector('#df-f89a0abd-4f79-4c3a-aa93-f4e9c0c37321 button.colab-df-convert');\n",
              "      buttonEl.style.display =\n",
              "        google.colab.kernel.accessAllowed ? 'block' : 'none';\n",
              "\n",
              "      async function convertToInteractive(key) {\n",
              "        const element = document.querySelector('#df-f89a0abd-4f79-4c3a-aa93-f4e9c0c37321');\n",
              "        const dataTable =\n",
              "          await google.colab.kernel.invokeFunction('convertToInteractive',\n",
              "                                                    [key], {});\n",
              "        if (!dataTable) return;\n",
              "\n",
              "        const docLinkHtml = 'Like what you see? Visit the ' +\n",
              "          '<a target=\"_blank\" href=https://colab.research.google.com/notebooks/data_table.ipynb>data table notebook</a>'\n",
              "          + ' to learn more about interactive tables.';\n",
              "        element.innerHTML = '';\n",
              "        dataTable['output_type'] = 'display_data';\n",
              "        await google.colab.output.renderOutput(dataTable, element);\n",
              "        const docLink = document.createElement('div');\n",
              "        docLink.innerHTML = docLinkHtml;\n",
              "        element.appendChild(docLink);\n",
              "      }\n",
              "    </script>\n",
              "  </div>\n",
              "\n",
              "\n",
              "    <div id=\"df-0b76acc9-6c21-4d98-b816-ba269c3b7528\">\n",
              "      <button class=\"colab-df-quickchart\" onclick=\"quickchart('df-0b76acc9-6c21-4d98-b816-ba269c3b7528')\"\n",
              "                title=\"Suggest charts\"\n",
              "                style=\"display:none;\">\n",
              "\n",
              "<svg xmlns=\"http://www.w3.org/2000/svg\" height=\"24px\"viewBox=\"0 0 24 24\"\n",
              "     width=\"24px\">\n",
              "    <g>\n",
              "        <path d=\"M19 3H5c-1.1 0-2 .9-2 2v14c0 1.1.9 2 2 2h14c1.1 0 2-.9 2-2V5c0-1.1-.9-2-2-2zM9 17H7v-7h2v7zm4 0h-2V7h2v10zm4 0h-2v-4h2v4z\"/>\n",
              "    </g>\n",
              "</svg>\n",
              "      </button>\n",
              "\n",
              "<style>\n",
              "  .colab-df-quickchart {\n",
              "      --bg-color: #E8F0FE;\n",
              "      --fill-color: #1967D2;\n",
              "      --hover-bg-color: #E2EBFA;\n",
              "      --hover-fill-color: #174EA6;\n",
              "      --disabled-fill-color: #AAA;\n",
              "      --disabled-bg-color: #DDD;\n",
              "  }\n",
              "\n",
              "  [theme=dark] .colab-df-quickchart {\n",
              "      --bg-color: #3B4455;\n",
              "      --fill-color: #D2E3FC;\n",
              "      --hover-bg-color: #434B5C;\n",
              "      --hover-fill-color: #FFFFFF;\n",
              "      --disabled-bg-color: #3B4455;\n",
              "      --disabled-fill-color: #666;\n",
              "  }\n",
              "\n",
              "  .colab-df-quickchart {\n",
              "    background-color: var(--bg-color);\n",
              "    border: none;\n",
              "    border-radius: 50%;\n",
              "    cursor: pointer;\n",
              "    display: none;\n",
              "    fill: var(--fill-color);\n",
              "    height: 32px;\n",
              "    padding: 0;\n",
              "    width: 32px;\n",
              "  }\n",
              "\n",
              "  .colab-df-quickchart:hover {\n",
              "    background-color: var(--hover-bg-color);\n",
              "    box-shadow: 0 1px 2px rgba(60, 64, 67, 0.3), 0 1px 3px 1px rgba(60, 64, 67, 0.15);\n",
              "    fill: var(--button-hover-fill-color);\n",
              "  }\n",
              "\n",
              "  .colab-df-quickchart-complete:disabled,\n",
              "  .colab-df-quickchart-complete:disabled:hover {\n",
              "    background-color: var(--disabled-bg-color);\n",
              "    fill: var(--disabled-fill-color);\n",
              "    box-shadow: none;\n",
              "  }\n",
              "\n",
              "  .colab-df-spinner {\n",
              "    border: 2px solid var(--fill-color);\n",
              "    border-color: transparent;\n",
              "    border-bottom-color: var(--fill-color);\n",
              "    animation:\n",
              "      spin 1s steps(1) infinite;\n",
              "  }\n",
              "\n",
              "  @keyframes spin {\n",
              "    0% {\n",
              "      border-color: transparent;\n",
              "      border-bottom-color: var(--fill-color);\n",
              "      border-left-color: var(--fill-color);\n",
              "    }\n",
              "    20% {\n",
              "      border-color: transparent;\n",
              "      border-left-color: var(--fill-color);\n",
              "      border-top-color: var(--fill-color);\n",
              "    }\n",
              "    30% {\n",
              "      border-color: transparent;\n",
              "      border-left-color: var(--fill-color);\n",
              "      border-top-color: var(--fill-color);\n",
              "      border-right-color: var(--fill-color);\n",
              "    }\n",
              "    40% {\n",
              "      border-color: transparent;\n",
              "      border-right-color: var(--fill-color);\n",
              "      border-top-color: var(--fill-color);\n",
              "    }\n",
              "    60% {\n",
              "      border-color: transparent;\n",
              "      border-right-color: var(--fill-color);\n",
              "    }\n",
              "    80% {\n",
              "      border-color: transparent;\n",
              "      border-right-color: var(--fill-color);\n",
              "      border-bottom-color: var(--fill-color);\n",
              "    }\n",
              "    90% {\n",
              "      border-color: transparent;\n",
              "      border-bottom-color: var(--fill-color);\n",
              "    }\n",
              "  }\n",
              "</style>\n",
              "\n",
              "      <script>\n",
              "        async function quickchart(key) {\n",
              "          const quickchartButtonEl =\n",
              "            document.querySelector('#' + key + ' button');\n",
              "          quickchartButtonEl.disabled = true;  // To prevent multiple clicks.\n",
              "          quickchartButtonEl.classList.add('colab-df-spinner');\n",
              "          try {\n",
              "            const charts = await google.colab.kernel.invokeFunction(\n",
              "                'suggestCharts', [key], {});\n",
              "          } catch (error) {\n",
              "            console.error('Error during call to suggestCharts:', error);\n",
              "          }\n",
              "          quickchartButtonEl.classList.remove('colab-df-spinner');\n",
              "          quickchartButtonEl.classList.add('colab-df-quickchart-complete');\n",
              "        }\n",
              "        (() => {\n",
              "          let quickchartButtonEl =\n",
              "            document.querySelector('#df-0b76acc9-6c21-4d98-b816-ba269c3b7528 button');\n",
              "          quickchartButtonEl.style.display =\n",
              "            google.colab.kernel.accessAllowed ? 'block' : 'none';\n",
              "        })();\n",
              "      </script>\n",
              "    </div>\n",
              "\n",
              "    </div>\n",
              "  </div>\n"
            ],
            "application/vnd.google.colaboratory.intrinsic+json": {
              "type": "dataframe",
              "variable_name": "df",
              "summary": "{\n  \"name\": \"df\",\n  \"rows\": 10000,\n  \"fields\": [\n    {\n      \"column\": \"SessionID\",\n      \"properties\": {\n        \"dtype\": \"string\",\n        \"num_unique_values\": 10000,\n        \"samples\": [\n          \"SESSION06253\",\n          \"SESSION04685\",\n          \"SESSION01732\"\n        ],\n        \"semantic_type\": \"\",\n        \"description\": \"\"\n      }\n    },\n    {\n      \"column\": \"StudentLevel\",\n      \"properties\": {\n        \"dtype\": \"category\",\n        \"num_unique_values\": 3,\n        \"samples\": [\n          \"Undergraduate\",\n          \"Graduate\",\n          \"High School\"\n        ],\n        \"semantic_type\": \"\",\n        \"description\": \"\"\n      }\n    },\n    {\n      \"column\": \"Discipline\",\n      \"properties\": {\n        \"dtype\": \"category\",\n        \"num_unique_values\": 7,\n        \"samples\": [\n          \"Computer Science\",\n          \"Psychology\",\n          \"History\"\n        ],\n        \"semantic_type\": \"\",\n        \"description\": \"\"\n      }\n    },\n    {\n      \"column\": \"SessionDate\",\n      \"properties\": {\n        \"dtype\": \"object\",\n        \"num_unique_values\": 366,\n        \"samples\": [\n          \"2024-09-06\",\n          \"2025-03-21\",\n          \"2025-04-27\"\n        ],\n        \"semantic_type\": \"\",\n        \"description\": \"\"\n      }\n    },\n    {\n      \"column\": \"SessionLengthMin\",\n      \"properties\": {\n        \"dtype\": \"number\",\n        \"std\": 13.897301988089875,\n        \"min\": 0.03,\n        \"max\": 110.81,\n        \"num_unique_values\": 4078,\n        \"samples\": [\n          10.59,\n          52.44,\n          3.89\n        ],\n        \"semantic_type\": \"\",\n        \"description\": \"\"\n      }\n    },\n    {\n      \"column\": \"TotalPrompts\",\n      \"properties\": {\n        \"dtype\": \"number\",\n        \"std\": 4,\n        \"min\": 1,\n        \"max\": 39,\n        \"num_unique_values\": 37,\n        \"samples\": [\n          14,\n          19,\n          9\n        ],\n        \"semantic_type\": \"\",\n        \"description\": \"\"\n      }\n    },\n    {\n      \"column\": \"TaskType\",\n      \"properties\": {\n        \"dtype\": \"category\",\n        \"num_unique_values\": 6,\n        \"samples\": [\n          \"Studying\",\n          \"Coding\",\n          \"Research\"\n        ],\n        \"semantic_type\": \"\",\n        \"description\": \"\"\n      }\n    },\n    {\n      \"column\": \"AI_AssistanceLevel\",\n      \"properties\": {\n        \"dtype\": \"number\",\n        \"std\": 0,\n        \"min\": 1,\n        \"max\": 5,\n        \"num_unique_values\": 5,\n        \"samples\": [\n          3,\n          1,\n          5\n        ],\n        \"semantic_type\": \"\",\n        \"description\": \"\"\n      }\n    },\n    {\n      \"column\": \"FinalOutcome\",\n      \"properties\": {\n        \"dtype\": \"category\",\n        \"num_unique_values\": 4,\n        \"samples\": [\n          \"Idea Drafted\",\n          \"Gave Up\",\n          \"Assignment Completed\"\n        ],\n        \"semantic_type\": \"\",\n        \"description\": \"\"\n      }\n    },\n    {\n      \"column\": \"UsedAgain\",\n      \"properties\": {\n        \"dtype\": \"boolean\",\n        \"num_unique_values\": 2,\n        \"samples\": [\n          false,\n          true\n        ],\n        \"semantic_type\": \"\",\n        \"description\": \"\"\n      }\n    },\n    {\n      \"column\": \"SatisfactionRating\",\n      \"properties\": {\n        \"dtype\": \"number\",\n        \"std\": 1.1433313571573371,\n        \"min\": 1.0,\n        \"max\": 5.0,\n        \"num_unique_values\": 41,\n        \"samples\": [\n          2.2,\n          4.4\n        ],\n        \"semantic_type\": \"\",\n        \"description\": \"\"\n      }\n    }\n  ]\n}"
            }
          },
          "metadata": {},
          "execution_count": 3
        }
      ]
    },
    {
      "cell_type": "code",
      "source": [
        "import numpy as np\n",
        "print(df.info())\n",
        "print(\"null values\")\n",
        "print(df.isnull().sum())"
      ],
      "metadata": {
        "colab": {
          "base_uri": "https://localhost:8080/"
        },
        "id": "6t6-QWl1otX2",
        "outputId": "1c562d10-099b-4e1d-f72e-3b267f512004"
      },
      "execution_count": null,
      "outputs": [
        {
          "output_type": "stream",
          "name": "stdout",
          "text": [
            "<class 'pandas.core.frame.DataFrame'>\n",
            "RangeIndex: 10000 entries, 0 to 9999\n",
            "Data columns (total 11 columns):\n",
            " #   Column              Non-Null Count  Dtype  \n",
            "---  ------              --------------  -----  \n",
            " 0   SessionID           10000 non-null  object \n",
            " 1   StudentLevel        10000 non-null  object \n",
            " 2   Discipline          10000 non-null  object \n",
            " 3   SessionDate         10000 non-null  object \n",
            " 4   SessionLengthMin    10000 non-null  float64\n",
            " 5   TotalPrompts        10000 non-null  int64  \n",
            " 6   TaskType            10000 non-null  object \n",
            " 7   AI_AssistanceLevel  10000 non-null  int64  \n",
            " 8   FinalOutcome        10000 non-null  object \n",
            " 9   UsedAgain           10000 non-null  bool   \n",
            " 10  SatisfactionRating  10000 non-null  float64\n",
            "dtypes: bool(1), float64(2), int64(2), object(6)\n",
            "memory usage: 791.1+ KB\n",
            "None\n",
            "null values\n",
            "SessionID             0\n",
            "StudentLevel          0\n",
            "Discipline            0\n",
            "SessionDate           0\n",
            "SessionLengthMin      0\n",
            "TotalPrompts          0\n",
            "TaskType              0\n",
            "AI_AssistanceLevel    0\n",
            "FinalOutcome          0\n",
            "UsedAgain             0\n",
            "SatisfactionRating    0\n",
            "dtype: int64\n"
          ]
        }
      ]
    },
    {
      "cell_type": "code",
      "source": [
        "from sklearn.model_selection import train_test_split\n",
        "from sklearn.feature_selection import VarianceThreshold\n",
        "print(df.shape)\n",
        "print(df.tail())"
      ],
      "metadata": {
        "colab": {
          "base_uri": "https://localhost:8080/"
        },
        "id": "HMee2ZhVqSWO",
        "outputId": "56471209-e13f-493b-ea5c-6f9bc5b5e601"
      },
      "execution_count": null,
      "outputs": [
        {
          "output_type": "stream",
          "name": "stdout",
          "text": [
            "(10000, 11)\n",
            "         SessionID   StudentLevel  Discipline SessionDate  SessionLengthMin  \\\n",
            "9995  SESSION09996  Undergraduate  Psychology  2024-07-20             28.41   \n",
            "9996  SESSION09997    High School    Business  2024-11-11             13.98   \n",
            "9997  SESSION09998  Undergraduate     Biology  2024-09-11             10.78   \n",
            "9998  SESSION09999  Undergraduate    Business  2024-10-27             30.88   \n",
            "9999  SESSION10000  Undergraduate        Math  2025-04-16             10.85   \n",
            "\n",
            "      TotalPrompts  TaskType  AI_AssistanceLevel          FinalOutcome  \\\n",
            "9995             5  Studying                   3  Assignment Completed   \n",
            "9996             6   Writing                   5  Assignment Completed   \n",
            "9997             2  Studying                   3          Idea Drafted   \n",
            "9998             7   Writing                   3  Assignment Completed   \n",
            "9999             3   Writing                   4  Assignment Completed   \n",
            "\n",
            "      UsedAgain  SatisfactionRating  \n",
            "9995       True                 4.2  \n",
            "9996       True                 5.0  \n",
            "9997       True                 3.5  \n",
            "9998      False                 4.3  \n",
            "9999       True                 4.9  \n"
          ]
        }
      ]
    },
    {
      "cell_type": "code",
      "source": [
        "constant_features = [col for col in df.columns if df[col].nunique()==1]\n",
        "print(\"Constant Features:\", constant_features)\n",
        "import numpy as np\n",
        "df.loc[df[\"SessionID\"] == \"SESSION10000\", \"SatisfactionRating\"] = np.nan\n",
        "print(df.tail())"
      ],
      "metadata": {
        "colab": {
          "base_uri": "https://localhost:8080/"
        },
        "id": "W2QRhPkIrcPj",
        "outputId": "c208a310-f487-4001-fd22-c2af2b884cde"
      },
      "execution_count": null,
      "outputs": [
        {
          "output_type": "stream",
          "name": "stdout",
          "text": [
            "Constant Features: []\n",
            "         SessionID   StudentLevel  Discipline SessionDate  SessionLengthMin  \\\n",
            "9995  SESSION09996  Undergraduate  Psychology  2024-07-20             28.41   \n",
            "9996  SESSION09997    High School    Business  2024-11-11             13.98   \n",
            "9997  SESSION09998  Undergraduate     Biology  2024-09-11             10.78   \n",
            "9998  SESSION09999  Undergraduate    Business  2024-10-27             30.88   \n",
            "9999  SESSION10000  Undergraduate        Math  2025-04-16             10.85   \n",
            "\n",
            "      TotalPrompts  TaskType  AI_AssistanceLevel          FinalOutcome  \\\n",
            "9995             5  Studying                   3  Assignment Completed   \n",
            "9996             6   Writing                   5  Assignment Completed   \n",
            "9997             2  Studying                   3          Idea Drafted   \n",
            "9998             7   Writing                   3  Assignment Completed   \n",
            "9999             3   Writing                   4  Assignment Completed   \n",
            "\n",
            "      UsedAgain  SatisfactionRating  \n",
            "9995       True                 4.2  \n",
            "9996       True                 5.0  \n",
            "9997       True                 3.5  \n",
            "9998      False                 4.3  \n",
            "9999       True                 NaN  \n"
          ]
        }
      ]
    },
    {
      "cell_type": "code",
      "source": [
        "print(df.isnull().sum())"
      ],
      "metadata": {
        "colab": {
          "base_uri": "https://localhost:8080/"
        },
        "id": "gA0u8QyOuJnR",
        "outputId": "ab9e60af-dfb4-4328-d83f-d0f5476b5f1a"
      },
      "execution_count": null,
      "outputs": [
        {
          "output_type": "stream",
          "name": "stdout",
          "text": [
            "SessionID             0\n",
            "StudentLevel          0\n",
            "Discipline            0\n",
            "SessionDate           0\n",
            "SessionLengthMin      0\n",
            "TotalPrompts          0\n",
            "TaskType              0\n",
            "AI_AssistanceLevel    0\n",
            "FinalOutcome          0\n",
            "UsedAgain             0\n",
            "SatisfactionRating    1\n",
            "dtype: int64\n"
          ]
        }
      ]
    },
    {
      "cell_type": "code",
      "source": [
        "df['SatisfactionRating'].fillna(df['SatisfactionRating'].mean(),inplace=True)\n",
        "print(df.isnull().sum())"
      ],
      "metadata": {
        "colab": {
          "base_uri": "https://localhost:8080/"
        },
        "id": "uzrk6fak0mar",
        "outputId": "1d01c581-88e3-48d5-8243-5cf36f7a27b9"
      },
      "execution_count": null,
      "outputs": [
        {
          "output_type": "stream",
          "name": "stdout",
          "text": [
            "SessionID             0\n",
            "StudentLevel          0\n",
            "Discipline            0\n",
            "SessionDate           0\n",
            "SessionLengthMin      0\n",
            "TotalPrompts          0\n",
            "TaskType              0\n",
            "AI_AssistanceLevel    0\n",
            "FinalOutcome          0\n",
            "UsedAgain             0\n",
            "SatisfactionRating    0\n",
            "dtype: int64\n"
          ]
        },
        {
          "output_type": "stream",
          "name": "stderr",
          "text": [
            "/tmp/ipython-input-2400177460.py:1: FutureWarning: A value is trying to be set on a copy of a DataFrame or Series through chained assignment using an inplace method.\n",
            "The behavior will change in pandas 3.0. This inplace method will never work because the intermediate object on which we are setting values always behaves as a copy.\n",
            "\n",
            "For example, when doing 'df[col].method(value, inplace=True)', try using 'df.method({col: value}, inplace=True)' or df[col] = df[col].method(value) instead, to perform the operation inplace on the original object.\n",
            "\n",
            "\n",
            "  df['SatisfactionRating'].fillna(df['SatisfactionRating'].mean(),inplace=True)\n"
          ]
        }
      ]
    },
    {
      "cell_type": "code",
      "source": [
        "print(df.tail())"
      ],
      "metadata": {
        "colab": {
          "base_uri": "https://localhost:8080/"
        },
        "id": "khwbHF2LVjEW",
        "outputId": "1e5091da-e092-484c-b497-62b2945fbc86"
      },
      "execution_count": null,
      "outputs": [
        {
          "output_type": "stream",
          "name": "stdout",
          "text": [
            "         SessionID   StudentLevel  Discipline SessionDate  SessionLengthMin  \\\n",
            "9995  SESSION09996  Undergraduate  Psychology  2024-07-20             28.41   \n",
            "9996  SESSION09997    High School    Business  2024-11-11             13.98   \n",
            "9997  SESSION09998  Undergraduate     Biology  2024-09-11             10.78   \n",
            "9998  SESSION09999  Undergraduate    Business  2024-10-27             30.88   \n",
            "9999  SESSION10000  Undergraduate        Math  2025-04-16             10.85   \n",
            "\n",
            "      TotalPrompts  TaskType  AI_AssistanceLevel          FinalOutcome  \\\n",
            "9995             5  Studying                   3  Assignment Completed   \n",
            "9996             6   Writing                   5  Assignment Completed   \n",
            "9997             2  Studying                   3          Idea Drafted   \n",
            "9998             7   Writing                   3  Assignment Completed   \n",
            "9999             3   Writing                   4  Assignment Completed   \n",
            "\n",
            "      UsedAgain  SatisfactionRating  \n",
            "9995       True            4.200000  \n",
            "9996       True            5.000000  \n",
            "9997       True            3.500000  \n",
            "9998      False            4.300000  \n",
            "9999       True            3.417632  \n"
          ]
        }
      ]
    },
    {
      "cell_type": "code",
      "source": [
        "train_x,test_x,train_y,test_y=train_test_split(df.drop('SatisfactionRating',axis=1),df['SatisfactionRating'],test_size=0.3,random_state=42)\n",
        "print(train_x.shape)\n",
        "print(test_x.shape)"
      ],
      "metadata": {
        "colab": {
          "base_uri": "https://localhost:8080/"
        },
        "id": "cyTrUsQyyuV1",
        "outputId": "f95161a4-bf83-44a0-e2d5-849afdea8554"
      },
      "execution_count": null,
      "outputs": [
        {
          "output_type": "stream",
          "name": "stdout",
          "text": [
            "(7000, 11)\n",
            "(3000, 11)\n"
          ]
        }
      ]
    },
    {
      "cell_type": "code",
      "source": [
        "print(df.tail)\n",
        "df['empty_col']=[0]*10000"
      ],
      "metadata": {
        "colab": {
          "base_uri": "https://localhost:8080/"
        },
        "id": "0sORkyTCz8lc",
        "outputId": "82d83ecc-4512-4412-fbcc-9ba93839aaf6"
      },
      "execution_count": null,
      "outputs": [
        {
          "output_type": "stream",
          "name": "stdout",
          "text": [
            "<bound method NDFrame.tail of          SessionID   StudentLevel        Discipline SessionDate  \\\n",
            "0     SESSION00001  Undergraduate  Computer Science  2024-11-03   \n",
            "1     SESSION00002  Undergraduate        Psychology  2024-08-25   \n",
            "2     SESSION00003  Undergraduate          Business  2025-01-12   \n",
            "3     SESSION00004  Undergraduate  Computer Science  2025-05-06   \n",
            "4     SESSION00005  Undergraduate        Psychology  2025-03-18   \n",
            "...            ...            ...               ...         ...   \n",
            "9995  SESSION09996  Undergraduate        Psychology  2024-07-20   \n",
            "9996  SESSION09997    High School          Business  2024-11-11   \n",
            "9997  SESSION09998  Undergraduate           Biology  2024-09-11   \n",
            "9998  SESSION09999  Undergraduate          Business  2024-10-27   \n",
            "9999  SESSION10000  Undergraduate              Math  2025-04-16   \n",
            "\n",
            "      SessionLengthMin  TotalPrompts  TaskType  AI_AssistanceLevel  \\\n",
            "0                31.20            11  Studying                   2   \n",
            "1                13.09             6  Studying                   3   \n",
            "2                19.22             5    Coding                   3   \n",
            "3                 3.70             1    Coding                   3   \n",
            "4                28.12             9   Writing                   3   \n",
            "...                ...           ...       ...                 ...   \n",
            "9995             28.41             5  Studying                   3   \n",
            "9996             13.98             6   Writing                   5   \n",
            "9997             10.78             2  Studying                   3   \n",
            "9998             30.88             7   Writing                   3   \n",
            "9999             10.85             3   Writing                   4   \n",
            "\n",
            "              FinalOutcome  UsedAgain  SatisfactionRating  empty_col  \n",
            "0     Assignment Completed       True            1.000000          0  \n",
            "1     Assignment Completed       True            2.000000          0  \n",
            "2     Assignment Completed       True            3.300000          0  \n",
            "3     Assignment Completed       True            3.500000          0  \n",
            "4     Assignment Completed       True            2.900000          0  \n",
            "...                    ...        ...                 ...        ...  \n",
            "9995  Assignment Completed       True            4.200000          0  \n",
            "9996  Assignment Completed       True            5.000000          0  \n",
            "9997          Idea Drafted       True            3.500000          0  \n",
            "9998  Assignment Completed      False            4.300000          0  \n",
            "9999  Assignment Completed       True            3.417632          0  \n",
            "\n",
            "[10000 rows x 12 columns]>\n"
          ]
        }
      ]
    },
    {
      "cell_type": "code",
      "source": [
        "#checking for constant features in dataset\n",
        "c = [f for f in train_x.select_dtypes(include='number').columns if train_x[f].std() == 0]\n",
        "print(c)\n",
        "a=[col for col in train_x.columns if train_x[col].nunique()==1]\n",
        "print(a)\n",
        "print(df)"
      ],
      "metadata": {
        "colab": {
          "base_uri": "https://localhost:8080/"
        },
        "id": "GoOlSvzd3PMy",
        "outputId": "103bf4e8-d9fe-467a-8a9b-4fbae304ba4e"
      },
      "execution_count": null,
      "outputs": [
        {
          "output_type": "stream",
          "name": "stdout",
          "text": [
            "['empty_col']\n",
            "['empty_col']\n",
            "         SessionID   StudentLevel        Discipline SessionDate  \\\n",
            "0     SESSION00001  Undergraduate  Computer Science  2024-11-03   \n",
            "1     SESSION00002  Undergraduate        Psychology  2024-08-25   \n",
            "2     SESSION00003  Undergraduate          Business  2025-01-12   \n",
            "3     SESSION00004  Undergraduate  Computer Science  2025-05-06   \n",
            "4     SESSION00005  Undergraduate        Psychology  2025-03-18   \n",
            "...            ...            ...               ...         ...   \n",
            "9995  SESSION09996  Undergraduate        Psychology  2024-07-20   \n",
            "9996  SESSION09997    High School          Business  2024-11-11   \n",
            "9997  SESSION09998  Undergraduate           Biology  2024-09-11   \n",
            "9998  SESSION09999  Undergraduate          Business  2024-10-27   \n",
            "9999  SESSION10000  Undergraduate              Math  2025-04-16   \n",
            "\n",
            "      SessionLengthMin  TotalPrompts  TaskType  AI_AssistanceLevel  \\\n",
            "0                31.20            11  Studying                   2   \n",
            "1                13.09             6  Studying                   3   \n",
            "2                19.22             5    Coding                   3   \n",
            "3                 3.70             1    Coding                   3   \n",
            "4                28.12             9   Writing                   3   \n",
            "...                ...           ...       ...                 ...   \n",
            "9995             28.41             5  Studying                   3   \n",
            "9996             13.98             6   Writing                   5   \n",
            "9997             10.78             2  Studying                   3   \n",
            "9998             30.88             7   Writing                   3   \n",
            "9999             10.85             3   Writing                   4   \n",
            "\n",
            "              FinalOutcome  UsedAgain  SatisfactionRating  empty_col  \n",
            "0     Assignment Completed       True            1.000000          0  \n",
            "1     Assignment Completed       True            2.000000          0  \n",
            "2     Assignment Completed       True            3.300000          0  \n",
            "3     Assignment Completed       True            3.500000          0  \n",
            "4     Assignment Completed       True            2.900000          0  \n",
            "...                    ...        ...                 ...        ...  \n",
            "9995  Assignment Completed       True            4.200000          0  \n",
            "9996  Assignment Completed       True            5.000000          0  \n",
            "9997          Idea Drafted       True            3.500000          0  \n",
            "9998  Assignment Completed      False            4.300000          0  \n",
            "9999  Assignment Completed       True            3.417632          0  \n",
            "\n",
            "[10000 rows x 12 columns]\n"
          ]
        }
      ]
    },
    {
      "cell_type": "code",
      "source": [
        "#dropping constant feature\n",
        "train_x.drop(a,axis=1,inplace=True)\n",
        "test_x.drop(a,axis=1,inplace=True)\n",
        "print(train_x.shape)\n",
        "print(test_x.shape)"
      ],
      "metadata": {
        "colab": {
          "base_uri": "https://localhost:8080/"
        },
        "id": "H9TnAz2l75fm",
        "outputId": "a2fe7bb6-29f6-4188-a9ac-a136c471e734"
      },
      "execution_count": null,
      "outputs": [
        {
          "output_type": "stream",
          "name": "stdout",
          "text": [
            "(7000, 10)\n",
            "(3000, 10)\n"
          ]
        }
      ]
    },
    {
      "cell_type": "code",
      "source": [
        "#extra feature to test for quasi constant\n",
        "df['q_col']=[0]*9997+[1,1,1]\n",
        "print(df)"
      ],
      "metadata": {
        "colab": {
          "base_uri": "https://localhost:8080/"
        },
        "id": "KgVD5_OQxzeX",
        "outputId": "feb640f3-2f3d-4f30-d514-ff56677c994b"
      },
      "execution_count": null,
      "outputs": [
        {
          "output_type": "stream",
          "name": "stdout",
          "text": [
            "         SessionID   StudentLevel        Discipline SessionDate  \\\n",
            "0     SESSION00001  Undergraduate  Computer Science  2024-11-03   \n",
            "1     SESSION00002  Undergraduate        Psychology  2024-08-25   \n",
            "2     SESSION00003  Undergraduate          Business  2025-01-12   \n",
            "3     SESSION00004  Undergraduate  Computer Science  2025-05-06   \n",
            "4     SESSION00005  Undergraduate        Psychology  2025-03-18   \n",
            "...            ...            ...               ...         ...   \n",
            "9995  SESSION09996  Undergraduate        Psychology  2024-07-20   \n",
            "9996  SESSION09997    High School          Business  2024-11-11   \n",
            "9997  SESSION09998  Undergraduate           Biology  2024-09-11   \n",
            "9998  SESSION09999  Undergraduate          Business  2024-10-27   \n",
            "9999  SESSION10000  Undergraduate              Math  2025-04-16   \n",
            "\n",
            "      SessionLengthMin  TotalPrompts  TaskType  AI_AssistanceLevel  \\\n",
            "0                31.20            11  Studying                   2   \n",
            "1                13.09             6  Studying                   3   \n",
            "2                19.22             5    Coding                   3   \n",
            "3                 3.70             1    Coding                   3   \n",
            "4                28.12             9   Writing                   3   \n",
            "...                ...           ...       ...                 ...   \n",
            "9995             28.41             5  Studying                   3   \n",
            "9996             13.98             6   Writing                   5   \n",
            "9997             10.78             2  Studying                   3   \n",
            "9998             30.88             7   Writing                   3   \n",
            "9999             10.85             3   Writing                   4   \n",
            "\n",
            "              FinalOutcome  UsedAgain  SatisfactionRating  q_col  \n",
            "0     Assignment Completed       True                 1.0      0  \n",
            "1     Assignment Completed       True                 2.0      0  \n",
            "2     Assignment Completed       True                 3.3      0  \n",
            "3     Assignment Completed       True                 3.5      0  \n",
            "4     Assignment Completed       True                 2.9      0  \n",
            "...                    ...        ...                 ...    ...  \n",
            "9995  Assignment Completed       True                 4.2      0  \n",
            "9996  Assignment Completed       True                 5.0      0  \n",
            "9997          Idea Drafted       True                 3.5      1  \n",
            "9998  Assignment Completed      False                 4.3      1  \n",
            "9999  Assignment Completed       True                 4.9      1  \n",
            "\n",
            "[10000 rows x 12 columns]\n"
          ]
        }
      ]
    },
    {
      "cell_type": "code",
      "source": [
        "#02-08-2025\n",
        "#quasi-constant feature --> if 99.8 % of the values are same in the column or feature such features are removed from the dataset\n",
        "quasi_feature=[]\n",
        "x_train,x_test,y_train,y_test=train_test_split(df.drop('SatisfactionRating',axis=1),df['SatisfactionRating'],test_size=0.3,random_state=42)\n",
        "for col in x_train.columns:\n",
        "  predominant = (x_train[col].value_counts() / float(len(x_train))).sort_values(ascending=False).values[0]\n",
        "  if predominant>=0.7:\n",
        "    quasi_feature.append(col)\n",
        "print(quasi_feature)"
      ],
      "metadata": {
        "id": "KqNaZG277J_7",
        "colab": {
          "base_uri": "https://localhost:8080/"
        },
        "outputId": "5774cd93-001a-4972-922b-d628073a0fab"
      },
      "execution_count": null,
      "outputs": [
        {
          "output_type": "stream",
          "name": "stdout",
          "text": [
            "['UsedAgain', 'q_col']\n"
          ]
        }
      ]
    },
    {
      "cell_type": "code",
      "source": [
        "x_train,x_test,y_train,y_test=train_test_split(df.drop('SatisfactionRating',axis=1),df['SatisfactionRating'],test_size=0.3,random_state=42)\n",
        "for col in x_train.columns:\n",
        "  predominant = (x_train[col].value_counts() / float(len(x_train))).sort_values(ascending=False).values[0]\n",
        "  if predominant>=0.998:\n",
        "    quasi_feature.append(col)\n",
        "print(quasi_feature)"
      ],
      "metadata": {
        "colab": {
          "base_uri": "https://localhost:8080/"
        },
        "id": "98Wn81iD7gil",
        "outputId": "debdea4f-b7a3-43fc-de96-d9cc3dc76cbc"
      },
      "execution_count": null,
      "outputs": [
        {
          "output_type": "stream",
          "name": "stdout",
          "text": [
            "['q_col', 'q_col']\n"
          ]
        }
      ]
    },
    {
      "cell_type": "code",
      "source": [
        "#checking in test data\n",
        "for col in x_test.columns:\n",
        "  predominant=(x_train[col].value_counts()/float(len(x_train))).sort_values(ascending=False).values[0]\n",
        "  if predominant>=0.998:\n",
        "    quasi_feature.append(col)\n",
        "print(quasi_feature)\n",
        "print(x_train.shape,x_test.shape)"
      ],
      "metadata": {
        "colab": {
          "base_uri": "https://localhost:8080/"
        },
        "id": "eH9kPTwmy3gu",
        "outputId": "f7806554-6ae4-4ec5-a2c2-15ad892d7aad"
      },
      "execution_count": null,
      "outputs": [
        {
          "output_type": "stream",
          "name": "stdout",
          "text": [
            "['UsedAgain', 'q_col', 'q_col']\n",
            "(7000, 11) (3000, 11)\n"
          ]
        }
      ]
    },
    {
      "cell_type": "code",
      "source": [
        "print(x_train.tail())"
      ],
      "metadata": {
        "colab": {
          "base_uri": "https://localhost:8080/"
        },
        "id": "VntwDO0x0BjA",
        "outputId": "16260ee8-4392-493f-d1ba-b1ef315c12a2"
      },
      "execution_count": null,
      "outputs": [
        {
          "output_type": "stream",
          "name": "stdout",
          "text": [
            "         SessionID   StudentLevel  Discipline SessionDate  SessionLengthMin  \\\n",
            "5734  SESSION05735  Undergraduate  Psychology  2025-01-17              8.99   \n",
            "5191  SESSION05192  Undergraduate     Biology  2024-10-17             26.64   \n",
            "5390  SESSION05391  Undergraduate    Business  2024-12-11             10.17   \n",
            "860   SESSION00861  Undergraduate        Math  2025-03-09             11.55   \n",
            "7270  SESSION07271  Undergraduate  Psychology  2025-04-12              6.33   \n",
            "\n",
            "      TotalPrompts       TaskType  AI_AssistanceLevel          FinalOutcome  \\\n",
            "5734             2  Homework Help                   3          Idea Drafted   \n",
            "5191             8         Coding                   4  Assignment Completed   \n",
            "5390             2        Writing                   4          Idea Drafted   \n",
            "860              3       Studying                   3  Assignment Completed   \n",
            "7270             2       Research                   3  Assignment Completed   \n",
            "\n",
            "      UsedAgain  q_col  \n",
            "5734       True      0  \n",
            "5191       True      0  \n",
            "5390       True      0  \n",
            "860        True      0  \n",
            "7270       True      0  \n"
          ]
        }
      ]
    },
    {
      "cell_type": "code",
      "source": [
        "x_train.drop(labels=quasi_feature,axis=1,inplace=True)\n",
        "x_test.drop(labels=quasi_feature,axis=1,inplace=True)"
      ],
      "metadata": {
        "id": "ymAy9Q3Olx4e"
      },
      "execution_count": null,
      "outputs": []
    },
    {
      "cell_type": "code",
      "source": [
        "print(x_train.shape,x_test.shape)\n",
        "print(len(x_train))"
      ],
      "metadata": {
        "colab": {
          "base_uri": "https://localhost:8080/"
        },
        "id": "mg9pOIv_zwe1",
        "outputId": "341d9a75-8047-4bcc-ccfd-646b6a6cefde"
      },
      "execution_count": null,
      "outputs": [
        {
          "output_type": "stream",
          "name": "stdout",
          "text": [
            "(7000, 10) (3000, 10)\n",
            "7000\n"
          ]
        }
      ]
    },
    {
      "cell_type": "code",
      "source": [
        "#duplicate features --> removing duplicate col or features that have same value for every instance or row\n",
        "dup_feat=[]\n",
        "for i in range(len(x_train.columns)):\n",
        "  col1=x_train.columns[i]\n",
        "  for col2 in x_train.columns[i+1:]:\n",
        "    if x_train[col1].equals(x_train[col2]):\n",
        "      dup_feat.append(col2)\n",
        "print(dup_feat)"
      ],
      "metadata": {
        "colab": {
          "base_uri": "https://localhost:8080/"
        },
        "id": "R8tWUeyA0XKy",
        "outputId": "739f0bdc-852e-4081-9ad1-a7a7de5a69ce"
      },
      "execution_count": null,
      "outputs": [
        {
          "output_type": "stream",
          "name": "stdout",
          "text": [
            "[]\n"
          ]
        }
      ]
    },
    {
      "cell_type": "code",
      "source": [
        "#correlation --> it is used to find the features which are strongly related linearly\n",
        "import matplotlib.pyplot as plt\n",
        "import seaborn as sns\n",
        "from sklearn.model_selection import train_test_split\n",
        "x_train,x_test,y_train,y_test=train_test_split(df.drop('SatisfactionRating',axis=1),df['SatisfactionRating'],test_size=0.3,random_state=42)\n",
        "numeric_data=x_train.select_dtypes(include=['number'])\n",
        "corrmat=numeric_data.corr()\n",
        "print(corrmat)\n",
        "plt.figure(figsize=(6,4))\n",
        "sns.heatmap(corrmat, annot=True, fmt=\".2f\", cmap=\"coolwarm\")\n",
        "plt.title(\"Correlation Matrix\")\n",
        "plt.show()"
      ],
      "metadata": {
        "colab": {
          "base_uri": "https://localhost:8080/",
          "height": 460
        },
        "id": "Po87-fUj6MhG",
        "outputId": "bc57efc2-4be6-49b8-9a7f-c3b4a50c432a"
      },
      "execution_count": null,
      "outputs": [
        {
          "output_type": "stream",
          "name": "stdout",
          "text": [
            "                    SessionLengthMin  TotalPrompts  AI_AssistanceLevel\n",
            "SessionLengthMin            1.000000      0.904708           -0.001164\n",
            "TotalPrompts                0.904708      1.000000            0.000174\n",
            "AI_AssistanceLevel         -0.001164      0.000174            1.000000\n"
          ]
        },
        {
          "output_type": "display_data",
          "data": {
            "text/plain": [
              "<Figure size 600x400 with 2 Axes>"
            ],
            "image/png": "[encoded data removed]"
          },
          "metadata": {}
        }
      ]
    },
    {
      "cell_type": "code",
      "source": [
        "#03-08-2025\n",
        "def correlation(dataset,threshold):\n",
        "    col_corr = set()\n",
        "    corr_matrix = dataset.corr()\n",
        "    # Iterate through the upper triangle of the correlation matrix\n",
        "    for i in range(len(corr_matrix.columns)):\n",
        "        for j in range(i):\n",
        "            if abs(corr_matrix.iloc[i, j]) > threshold:\n",
        "                colname = corr_matrix.columns[i]  # Keep one of the two correlated columns\n",
        "                col_corr.add(colname)\n",
        "    return col_corr\n",
        "\n",
        "corr_features = correlation(x_train.select_dtypes(include=['number']), 0.9)\n",
        "correlated_features = set(corr_features)\n",
        "print(correlated_features)"
      ],
      "metadata": {
        "id": "fCIlgkm5mQlV",
        "colab": {
          "base_uri": "https://localhost:8080/"
        },
        "outputId": "9912c8a0-cbcb-45bf-cb37-974a1dafd29d"
      },
      "execution_count": null,
      "outputs": [
        {
          "output_type": "stream",
          "name": "stdout",
          "text": [
            "{'TotalPrompts'}\n"
          ]
        }
      ]
    },
    {
      "cell_type": "code",
      "source": [
        "#removing the unwanted correlated matrix\n",
        "x_train.drop(labels=correlated_features,axis=1,inplace=True)\n",
        "x_test.drop(labels=correlated_features,axis=1,inplace=True)\n",
        "print(x_train.shape,x_test.shape)"
      ],
      "metadata": {
        "colab": {
          "base_uri": "https://localhost:8080/"
        },
        "id": "P91qkZmiPgT4",
        "outputId": "d735717c-e23c-4db4-b446-c8c732b8ea81"
      },
      "execution_count": null,
      "outputs": [
        {
          "output_type": "stream",
          "name": "stdout",
          "text": [
            "(7000, 9) (3000, 9)\n"
          ]
        }
      ]
    },
    {
      "cell_type": "code",
      "source": [
        "#05-08-2025\n",
        "target_corr = x_train.select_dtypes(include=['number']).join(y_train)  # assuming y_train is your target as a Series or DataFrame\n",
        "\n",
        "corr_with_target = target_corr.corr()['SatisfactionRating']\n",
        "\n",
        "print(f\"Correlation with target:\")\n",
        "print(f\"SessionLengthMin: {corr_with_target['SessionLengthMin']:.3f}\")\n",
        "print(f\"TotalPrompts: {corr_with_target['TotalPrompts']:.3f}\")\n"
      ],
      "metadata": {
        "id": "wat_miZtjaNu",
        "colab": {
          "base_uri": "https://localhost:8080/"
        },
        "outputId": "599539ca-4f4f-49a6-a28e-f8fe2a1ccb35"
      },
      "execution_count": null,
      "outputs": [
        {
          "output_type": "stream",
          "name": "stdout",
          "text": [
            "Correlation with target:\n",
            "SessionLengthMin: -0.001\n",
            "TotalPrompts: 0.000\n"
          ]
        }
      ]
    },
    {
      "cell_type": "code",
      "source": [
        "print(x_train.tail())"
      ],
      "metadata": {
        "colab": {
          "base_uri": "https://localhost:8080/"
        },
        "id": "7u1DuwDiUugE",
        "outputId": "72e9745c-f474-475d-af71-c90c3f2b8e8e"
      },
      "execution_count": null,
      "outputs": [
        {
          "output_type": "stream",
          "name": "stdout",
          "text": [
            "         SessionID   StudentLevel  Discipline SessionDate  SessionLengthMin  \\\n",
            "5734  SESSION05735  Undergraduate  Psychology  2025-01-17              8.99   \n",
            "5191  SESSION05192  Undergraduate     Biology  2024-10-17             26.64   \n",
            "5390  SESSION05391  Undergraduate    Business  2024-12-11             10.17   \n",
            "860   SESSION00861  Undergraduate        Math  2025-03-09             11.55   \n",
            "7270  SESSION07271  Undergraduate  Psychology  2025-04-12              6.33   \n",
            "\n",
            "           TaskType  AI_AssistanceLevel          FinalOutcome  UsedAgain  \n",
            "5734  Homework Help                   3          Idea Drafted       True  \n",
            "5191         Coding                   4  Assignment Completed       True  \n",
            "5390        Writing                   4          Idea Drafted       True  \n",
            "860        Studying                   3  Assignment Completed       True  \n",
            "7270       Research                   3  Assignment Completed       True  \n"
          ]
        }
      ]
    },
    {
      "cell_type": "code",
      "source": [
        "print(y_train.isnull().sum())\n",
        "print(x_train.shape,y_train.shape)"
      ],
      "metadata": {
        "colab": {
          "base_uri": "https://localhost:8080/"
        },
        "id": "h04ShcyVVNcO",
        "outputId": "b9fc3b2b-0692-4982-8e50-1b4e620596ae"
      },
      "execution_count": null,
      "outputs": [
        {
          "output_type": "stream",
          "name": "stdout",
          "text": [
            "0\n",
            "(7000, 9) (7000,)\n"
          ]
        }
      ]
    },
    {
      "cell_type": "code",
      "source": [
        "#mutual information --> the dependency between the two variables that is amount of info obtained about one random variable by observing the other variable\n",
        "from sklearn.feature_selection import mutual_info_regression, SelectKBest\n",
        "import pandas as pd\n",
        "import matplotlib.pyplot as plt\n",
        "X_num = x_train.select_dtypes(include=['number'])\n",
        "\n",
        "mi_scores = mutual_info_regression(X_num, y_train)\n",
        "\n",
        "# 2. Convert to a pandas Series for readability\n",
        "mi_series = pd.Series(mi_scores)\n",
        "mi_series.index = X_num.columns  # Label each MI score with its corresponding feature\n",
        "\n",
        "# 3. Sort the MI scores (highest first)\n",
        "mi_series = mi_series.sort_values(ascending=False)\n",
        "\n",
        "# 4. Visualize the scores using a bar chart\n",
        "plt.figure(figsize=(6,4))\n",
        "mi_series.plot.bar()\n",
        "plt.title(\"Mutual Information Scores per Feature\")\n",
        "plt.ylabel(\"MI Score\")\n",
        "plt.show()\n"
      ],
      "metadata": {
        "colab": {
          "base_uri": "https://localhost:8080/",
          "height": 507
        },
        "id": "XmoCvdHvPocq",
        "outputId": "7d15399c-311d-4081-8c34-485ecff0d817"
      },
      "execution_count": null,
      "outputs": [
        {
          "output_type": "display_data",
          "data": {
            "text/plain": [
              "<Figure size 600x400 with 1 Axes>"
            ],
            "image/png": "[encoded data removed]"
          },
          "metadata": {}
        }
      ]
    },
    {
      "cell_type": "code",
      "source": [
        "from sklearn.feature_selection import SelectKBest\n",
        "selector = SelectKBest(mutual_info_regression, k=1)\n",
        "selector.fit(X_num, y_train)\n",
        "\n",
        "selected_features = X_num.columns[selector.get_support()]\n",
        "print(f\"Top selected features:\", selected_features.tolist())"
      ],
      "metadata": {
        "colab": {
          "base_uri": "https://localhost:8080/"
        },
        "id": "zhxSTx2CXhaH",
        "outputId": "62bf1a85-b2b1-44fa-dd25-701fd63a88df"
      },
      "execution_count": null,
      "outputs": [
        {
          "output_type": "stream",
          "name": "stdout",
          "text": [
            "Top selected features: ['AI_AssistanceLevel']\n"
          ]
        }
      ]
    },
    {
      "cell_type": "code",
      "source": [
        "from google.colab import files\n",
        "uploaded=files.upload()\n"
      ],
      "metadata": {
        "colab": {
          "base_uri": "https://localhost:8080/",
          "height": 71
        },
        "id": "tpl_xhlwjZ2E",
        "outputId": "63516cf5-b025-463e-aa83-9e19525c3f78"
      },
      "execution_count": null,
      "outputs": [
        {
          "output_type": "display_data",
          "data": {
            "text/plain": [
              "<IPython.core.display.HTML object>"
            ],
            "text/html": [
              "\n",
              "     <input type=\"file\" id=\"files-38dd930d-353c-4963-bd2c-12ba66c6af92\" name=\"files[]\" multiple disabled\n",
              "        style=\"border:none\" />\n",
              "     <output id=\"result-38dd930d-353c-4963-bd2c-12ba66c6af92\">\n",
              "      Upload widget is only available when the cell has been executed in the\n",
              "      current browser session. Please rerun this cell to enable.\n",
              "      </output>\n",
              "      <script>// Copyright 2017 Google LLC\n",
              "//\n",
              "// Licensed under the Apache License, Version 2.0 (the \"License\");\n",
              "// you may not use this file except in compliance with the License.\n",
              "// You may obtain a copy of the License at\n",
              "//\n",
              "//      http://www.apache.org/licenses/LICENSE-2.0\n",
              "//\n",
              "// Unless required by applicable law or agreed to in writing, software\n",
              "// distributed under the License is distributed on an \"AS IS\" BASIS,\n",
              "// WITHOUT WARRANTIES OR CONDITIONS OF ANY KIND, either express or implied.\n",
              "// See the License for the specific language governing permissions and\n",
              "// limitations under the License.\n",
              "\n",
              "/**\n",
              " * @fileoverview Helpers for google.colab Python module.\n",
              " */\n",
              "(function(scope) {\n",
              "function span(text, styleAttributes = {}) {\n",
              "  const element = document.createElement('span');\n",
              "  element.textContent = text;\n",
              "  for (const key of Object.keys(styleAttributes)) {\n",
              "    element.style[key] = styleAttributes[key];\n",
              "  }\n",
              "  return element;\n",
              "}\n",
              "\n",
              "// Max number of bytes which will be uploaded at a time.\n",
              "const MAX_PAYLOAD_SIZE = 100 * 1024;\n",
              "\n",
              "function _uploadFiles(inputId, outputId) {\n",
              "  const steps = uploadFilesStep(inputId, outputId);\n",
              "  const outputElement = document.getElementById(outputId);\n",
              "  // Cache steps on the outputElement to make it available for the next call\n",
              "  // to uploadFilesContinue from Python.\n",
              "  outputElement.steps = steps;\n",
              "\n",
              "  return _uploadFilesContinue(outputId);\n",
              "}\n",
              "\n",
              "// This is roughly an async generator (not supported in the browser yet),\n",
              "// where there are multiple asynchronous steps and the Python side is going\n",
              "// to poll for completion of each step.\n",
              "// This uses a Promise to block the python side on completion of each step,\n",
              "// then passes the result of the previous step as the input to the next step.\n",
              "function _uploadFilesContinue(outputId) {\n",
              "  const outputElement = document.getElementById(outputId);\n",
              "  const steps = outputElement.steps;\n",
              "\n",
              "  const next = steps.next(outputElement.lastPromiseValue);\n",
              "  return Promise.resolve(next.value.promise).then((value) => {\n",
              "    // Cache the last promise value to make it available to the next\n",
              "    // step of the generator.\n",
              "    outputElement.lastPromiseValue = value;\n",
              "    return next.value.response;\n",
              "  });\n",
              "}\n",
              "\n",
              "/**\n",
              " * Generator function which is called between each async step of the upload\n",
              " * process.\n",
              " * @param {string} inputId Element ID of the input file picker element.\n",
              " * @param {string} outputId Element ID of the output display.\n",
              " * @return {!Iterable<!Object>} Iterable of next steps.\n",
              " */\n",
              "function* uploadFilesStep(inputId, outputId) {\n",
              "  const inputElement = document.getElementById(inputId);\n",
              "  inputElement.disabled = false;\n",
              "\n",
              "  const outputElement = document.getElementById(outputId);\n",
              "  outputElement.innerHTML = '';\n",
              "\n",
              "  const pickedPromise = new Promise((resolve) => {\n",
              "    inputElement.addEventListener('change', (e) => {\n",
              "      resolve(e.target.files);\n",
              "    });\n",
              "  });\n",
              "\n",
              "  const cancel = document.createElement('button');\n",
              "  inputElement.parentElement.appendChild(cancel);\n",
              "  cancel.textContent = 'Cancel upload';\n",
              "  const cancelPromise = new Promise((resolve) => {\n",
              "    cancel.onclick = () => {\n",
              "      resolve(null);\n",
              "    };\n",
              "  });\n",
              "\n",
              "  // Wait for the user to pick the files.\n",
              "  const files = yield {\n",
              "    promise: Promise.race([pickedPromise, cancelPromise]),\n",
              "    response: {\n",
              "      action: 'starting',\n",
              "    }\n",
              "  };\n",
              "\n",
              "  cancel.remove();\n",
              "\n",
              "  // Disable the input element since further picks are not allowed.\n",
              "  inputElement.disabled = true;\n",
              "\n",
              "  if (!files) {\n",
              "    return {\n",
              "      response: {\n",
              "        action: 'complete',\n",
              "      }\n",
              "    };\n",
              "  }\n",
              "\n",
              "  for (const file of files) {\n",
              "    const li = document.createElement('li');\n",
              "    li.append(span(file.name, {fontWeight: 'bold'}));\n",
              "    li.append(span(\n",
              "        `(${file.type || 'n/a'}) - ${file.size} bytes, ` +\n",
              "        `last modified: ${\n",
              "            file.lastModifiedDate ? file.lastModifiedDate.toLocaleDateString() :\n",
              "                                    'n/a'} - `));\n",
              "    const percent = span('0% done');\n",
              "    li.appendChild(percent);\n",
              "\n",
              "    outputElement.appendChild(li);\n",
              "\n",
              "    const fileDataPromise = new Promise((resolve) => {\n",
              "      const reader = new FileReader();\n",
              "      reader.onload = (e) => {\n",
              "        resolve(e.target.result);\n",
              "      };\n",
              "      reader.readAsArrayBuffer(file);\n",
              "    });\n",
              "    // Wait for the data to be ready.\n",
              "    let fileData = yield {\n",
              "      promise: fileDataPromise,\n",
              "      response: {\n",
              "        action: 'continue',\n",
              "      }\n",
              "    };\n",
              "\n",
              "    // Use a chunked sending to avoid message size limits. See b/62115660.\n",
              "    let position = 0;\n",
              "    do {\n",
              "      const length = Math.min(fileData.byteLength - position, MAX_PAYLOAD_SIZE);\n",
              "      const chunk = new Uint8Array(fileData, position, length);\n",
              "      position += length;\n",
              "\n",
              "      const base64 = btoa(String.fromCharCode.apply(null, chunk));\n",
              "      yield {\n",
              "        response: {\n",
              "          action: 'append',\n",
              "          file: file.name,\n",
              "          data: base64,\n",
              "        },\n",
              "      };\n",
              "\n",
              "      let percentDone = fileData.byteLength === 0 ?\n",
              "          100 :\n",
              "          Math.round((position / fileData.byteLength) * 100);\n",
              "      percent.textContent = `${percentDone}% done`;\n",
              "\n",
              "    } while (position < fileData.byteLength);\n",
              "  }\n",
              "\n",
              "  // All done.\n",
              "  yield {\n",
              "    response: {\n",
              "      action: 'complete',\n",
              "    }\n",
              "  };\n",
              "}\n",
              "\n",
              "scope.google = scope.google || {};\n",
              "scope.google.colab = scope.google.colab || {};\n",
              "scope.google.colab._files = {\n",
              "  _uploadFiles,\n",
              "  _uploadFilesContinue,\n",
              "};\n",
              "})(self);\n",
              "</script> "
            ]
          },
          "metadata": {}
        },
        {
          "output_type": "stream",
          "name": "stdout",
          "text": [
            "Saving house_price_train.csv to house_price_train (1).csv\n"
          ]
        }
      ]
    },
    {
      "cell_type": "code",
      "source": [
        "from google.colab import files\n",
        "uploaded=files.upload()"
      ],
      "metadata": {
        "colab": {
          "base_uri": "https://localhost:8080/",
          "height": 71
        },
        "id": "zt7xHPj-kMwc",
        "outputId": "78292d80-3731-470d-8798-b8a2539d0482"
      },
      "execution_count": null,
      "outputs": [
        {
          "output_type": "display_data",
          "data": {
            "text/plain": [
              "<IPython.core.display.HTML object>"
            ],
            "text/html": [
              "\n",
              "     <input type=\"file\" id=\"files-42a32b0c-b455-4fcc-ab7b-939c5e2c537c\" name=\"files[]\" multiple disabled\n",
              "        style=\"border:none\" />\n",
              "     <output id=\"result-42a32b0c-b455-4fcc-ab7b-939c5e2c537c\">\n",
              "      Upload widget is only available when the cell has been executed in the\n",
              "      current browser session. Please rerun this cell to enable.\n",
              "      </output>\n",
              "      <script>// Copyright 2017 Google LLC\n",
              "//\n",
              "// Licensed under the Apache License, Version 2.0 (the \"License\");\n",
              "// you may not use this file except in compliance with the License.\n",
              "// You may obtain a copy of the License at\n",
              "//\n",
              "//      http://www.apache.org/licenses/LICENSE-2.0\n",
              "//\n",
              "// Unless required by applicable law or agreed to in writing, software\n",
              "// distributed under the License is distributed on an \"AS IS\" BASIS,\n",
              "// WITHOUT WARRANTIES OR CONDITIONS OF ANY KIND, either express or implied.\n",
              "// See the License for the specific language governing permissions and\n",
              "// limitations under the License.\n",
              "\n",
              "/**\n",
              " * @fileoverview Helpers for google.colab Python module.\n",
              " */\n",
              "(function(scope) {\n",
              "function span(text, styleAttributes = {}) {\n",
              "  const element = document.createElement('span');\n",
              "  element.textContent = text;\n",
              "  for (const key of Object.keys(styleAttributes)) {\n",
              "    element.style[key] = styleAttributes[key];\n",
              "  }\n",
              "  return element;\n",
              "}\n",
              "\n",
              "// Max number of bytes which will be uploaded at a time.\n",
              "const MAX_PAYLOAD_SIZE = 100 * 1024;\n",
              "\n",
              "function _uploadFiles(inputId, outputId) {\n",
              "  const steps = uploadFilesStep(inputId, outputId);\n",
              "  const outputElement = document.getElementById(outputId);\n",
              "  // Cache steps on the outputElement to make it available for the next call\n",
              "  // to uploadFilesContinue from Python.\n",
              "  outputElement.steps = steps;\n",
              "\n",
              "  return _uploadFilesContinue(outputId);\n",
              "}\n",
              "\n",
              "// This is roughly an async generator (not supported in the browser yet),\n",
              "// where there are multiple asynchronous steps and the Python side is going\n",
              "// to poll for completion of each step.\n",
              "// This uses a Promise to block the python side on completion of each step,\n",
              "// then passes the result of the previous step as the input to the next step.\n",
              "function _uploadFilesContinue(outputId) {\n",
              "  const outputElement = document.getElementById(outputId);\n",
              "  const steps = outputElement.steps;\n",
              "\n",
              "  const next = steps.next(outputElement.lastPromiseValue);\n",
              "  return Promise.resolve(next.value.promise).then((value) => {\n",
              "    // Cache the last promise value to make it available to the next\n",
              "    // step of the generator.\n",
              "    outputElement.lastPromiseValue = value;\n",
              "    return next.value.response;\n",
              "  });\n",
              "}\n",
              "\n",
              "/**\n",
              " * Generator function which is called between each async step of the upload\n",
              " * process.\n",
              " * @param {string} inputId Element ID of the input file picker element.\n",
              " * @param {string} outputId Element ID of the output display.\n",
              " * @return {!Iterable<!Object>} Iterable of next steps.\n",
              " */\n",
              "function* uploadFilesStep(inputId, outputId) {\n",
              "  const inputElement = document.getElementById(inputId);\n",
              "  inputElement.disabled = false;\n",
              "\n",
              "  const outputElement = document.getElementById(outputId);\n",
              "  outputElement.innerHTML = '';\n",
              "\n",
              "  const pickedPromise = new Promise((resolve) => {\n",
              "    inputElement.addEventListener('change', (e) => {\n",
              "      resolve(e.target.files);\n",
              "    });\n",
              "  });\n",
              "\n",
              "  const cancel = document.createElement('button');\n",
              "  inputElement.parentElement.appendChild(cancel);\n",
              "  cancel.textContent = 'Cancel upload';\n",
              "  const cancelPromise = new Promise((resolve) => {\n",
              "    cancel.onclick = () => {\n",
              "      resolve(null);\n",
              "    };\n",
              "  });\n",
              "\n",
              "  // Wait for the user to pick the files.\n",
              "  const files = yield {\n",
              "    promise: Promise.race([pickedPromise, cancelPromise]),\n",
              "    response: {\n",
              "      action: 'starting',\n",
              "    }\n",
              "  };\n",
              "\n",
              "  cancel.remove();\n",
              "\n",
              "  // Disable the input element since further picks are not allowed.\n",
              "  inputElement.disabled = true;\n",
              "\n",
              "  if (!files) {\n",
              "    return {\n",
              "      response: {\n",
              "        action: 'complete',\n",
              "      }\n",
              "    };\n",
              "  }\n",
              "\n",
              "  for (const file of files) {\n",
              "    const li = document.createElement('li');\n",
              "    li.append(span(file.name, {fontWeight: 'bold'}));\n",
              "    li.append(span(\n",
              "        `(${file.type || 'n/a'}) - ${file.size} bytes, ` +\n",
              "        `last modified: ${\n",
              "            file.lastModifiedDate ? file.lastModifiedDate.toLocaleDateString() :\n",
              "                                    'n/a'} - `));\n",
              "    const percent = span('0% done');\n",
              "    li.appendChild(percent);\n",
              "\n",
              "    outputElement.appendChild(li);\n",
              "\n",
              "    const fileDataPromise = new Promise((resolve) => {\n",
              "      const reader = new FileReader();\n",
              "      reader.onload = (e) => {\n",
              "        resolve(e.target.result);\n",
              "      };\n",
              "      reader.readAsArrayBuffer(file);\n",
              "    });\n",
              "    // Wait for the data to be ready.\n",
              "    let fileData = yield {\n",
              "      promise: fileDataPromise,\n",
              "      response: {\n",
              "        action: 'continue',\n",
              "      }\n",
              "    };\n",
              "\n",
              "    // Use a chunked sending to avoid message size limits. See b/62115660.\n",
              "    let position = 0;\n",
              "    do {\n",
              "      const length = Math.min(fileData.byteLength - position, MAX_PAYLOAD_SIZE);\n",
              "      const chunk = new Uint8Array(fileData, position, length);\n",
              "      position += length;\n",
              "\n",
              "      const base64 = btoa(String.fromCharCode.apply(null, chunk));\n",
              "      yield {\n",
              "        response: {\n",
              "          action: 'append',\n",
              "          file: file.name,\n",
              "          data: base64,\n",
              "        },\n",
              "      };\n",
              "\n",
              "      let percentDone = fileData.byteLength === 0 ?\n",
              "          100 :\n",
              "          Math.round((position / fileData.byteLength) * 100);\n",
              "      percent.textContent = `${percentDone}% done`;\n",
              "\n",
              "    } while (position < fileData.byteLength);\n",
              "  }\n",
              "\n",
              "  // All done.\n",
              "  yield {\n",
              "    response: {\n",
              "      action: 'complete',\n",
              "    }\n",
              "  };\n",
              "}\n",
              "\n",
              "scope.google = scope.google || {};\n",
              "scope.google.colab = scope.google.colab || {};\n",
              "scope.google.colab._files = {\n",
              "  _uploadFiles,\n",
              "  _uploadFilesContinue,\n",
              "};\n",
              "})(self);\n",
              "</script> "
            ]
          },
          "metadata": {}
        },
        {
          "output_type": "stream",
          "name": "stdout",
          "text": [
            "Saving titanic_train.csv to titanic_train (2).csv\n"
          ]
        }
      ]
    },
    {
      "cell_type": "code",
      "source": [
        "import pandas as pd\n",
        "import numpy as np\n",
        "from sklearn.model_selection import train_test_split\n",
        "from sklearn.feature_selection import VarianceThreshold\n",
        "df=pd.read_csv(\"house_price_train.csv\")\n",
        "print(df.head())"
      ],
      "metadata": {
        "colab": {
          "base_uri": "https://localhost:8080/"
        },
        "id": "cXTPHTt5kgJc",
        "outputId": "2578cc69-420d-4bca-f7ca-ce63d6657e49"
      },
      "execution_count": null,
      "outputs": [
        {
          "output_type": "stream",
          "name": "stdout",
          "text": [
            "   Id  MSSubClass MSZoning  ...  SaleType  SaleCondition SalePrice\n",
            "0   1          60       RL  ...        WD         Normal    208500\n",
            "1   2          20       RL  ...        WD         Normal    181500\n",
            "2   3          60       RL  ...        WD         Normal    223500\n",
            "3   4          70       RL  ...        WD        Abnorml    140000\n",
            "4   5          60       RL  ...        WD         Normal    250000\n",
            "\n",
            "[5 rows x 81 columns]\n"
          ]
        }
      ]
    },
    {
      "cell_type": "code",
      "source": [
        "from google.colab import drive\n",
        "drive.mount('/content/drive')"
      ],
      "metadata": {
        "colab": {
          "base_uri": "https://localhost:8080/"
        },
        "id": "LVYuhC9klbVG",
        "outputId": "bb5d06c8-3f3e-4bf7-b8ea-78c1642cbfc1"
      },
      "execution_count": null,
      "outputs": [
        {
          "output_type": "stream",
          "name": "stdout",
          "text": [
            "Drive already mounted at /content/drive; to attempt to forcibly remount, call drive.mount(\"/content/drive\", force_remount=True).\n"
          ]
        }
      ]
    },
    {
      "cell_type": "code",
      "source": [
        "print(df.isnull().sum())"
      ],
      "metadata": {
        "colab": {
          "base_uri": "https://localhost:8080/"
        },
        "id": "ee0kQ3jaoc_I",
        "outputId": "1b115bdf-33c2-4a0e-d6ad-803a7322da8c"
      },
      "execution_count": null,
      "outputs": [
        {
          "output_type": "stream",
          "name": "stdout",
          "text": [
            "Id               0\n",
            "MSSubClass       0\n",
            "MSZoning         0\n",
            "LotFrontage      0\n",
            "LotArea          0\n",
            "                ..\n",
            "MoSold           0\n",
            "YrSold           0\n",
            "SaleType         0\n",
            "SaleCondition    0\n",
            "SalePrice        0\n",
            "Length: 81, dtype: int64\n"
          ]
        }
      ]
    },
    {
      "cell_type": "code",
      "source": [
        "df.shape"
      ],
      "metadata": {
        "colab": {
          "base_uri": "https://localhost:8080/"
        },
        "id": "U3vvotbLqbHd",
        "outputId": "9752f69c-0ae5-4ddb-8e38-e6e8658436a1"
      },
      "execution_count": null,
      "outputs": [
        {
          "output_type": "execute_result",
          "data": {
            "text/plain": [
              "(1460, 81)"
            ]
          },
          "metadata": {},
          "execution_count": 17
        }
      ]
    },
    {
      "cell_type": "code",
      "source": [
        "df.fillna(df.mean(numeric_only=True),inplace=True) #to fill all numeric data"
      ],
      "metadata": {
        "id": "dF_2VZYCp7Yv"
      },
      "execution_count": null,
      "outputs": []
    },
    {
      "cell_type": "code",
      "source": [
        "print(df['MasVnrType'])"
      ],
      "metadata": {
        "colab": {
          "base_uri": "https://localhost:8080/"
        },
        "id": "NOedrCeVpj1H",
        "outputId": "b17a49bc-55c0-4aa6-8dab-c708c8117d7f"
      },
      "execution_count": null,
      "outputs": [
        {
          "output_type": "stream",
          "name": "stdout",
          "text": [
            "0       BrkFace\n",
            "1       BrkFace\n",
            "2       BrkFace\n",
            "3       BrkFace\n",
            "4       BrkFace\n",
            "         ...   \n",
            "1455    BrkFace\n",
            "1456      Stone\n",
            "1457    BrkFace\n",
            "1458    BrkFace\n",
            "1459    BrkFace\n",
            "Name: MasVnrType, Length: 1460, dtype: object\n"
          ]
        }
      ]
    },
    {
      "cell_type": "code",
      "source": [
        "df.fillna({col: df[col].mode()[0] for col in df.select_dtypes(include='object').columns}, inplace=True) #for categorical data"
      ],
      "metadata": {
        "id": "mLuWY1ivp6zW"
      },
      "execution_count": null,
      "outputs": []
    },
    {
      "cell_type": "code",
      "source": [
        "print(df.isnull().sum())"
      ],
      "metadata": {
        "colab": {
          "base_uri": "https://localhost:8080/"
        },
        "id": "gltbjDxasB_V",
        "outputId": "c1de0300-092e-4c96-9670-e3965c1643f2"
      },
      "execution_count": null,
      "outputs": [
        {
          "output_type": "stream",
          "name": "stdout",
          "text": [
            "Id               0\n",
            "MSSubClass       0\n",
            "MSZoning         0\n",
            "LotFrontage      0\n",
            "LotArea          0\n",
            "                ..\n",
            "MoSold           0\n",
            "YrSold           0\n",
            "SaleType         0\n",
            "SaleCondition    0\n",
            "SalePrice        0\n",
            "Length: 81, dtype: int64\n"
          ]
        }
      ]
    },
    {
      "cell_type": "code",
      "source": [
        "print(df.isnull().values.any())"
      ],
      "metadata": {
        "colab": {
          "base_uri": "https://localhost:8080/"
        },
        "id": "lYI_Kj8jshGE",
        "outputId": "37dab3dc-ac7f-4406-9e5e-6fe0e9460648"
      },
      "execution_count": null,
      "outputs": [
        {
          "output_type": "stream",
          "name": "stdout",
          "text": [
            "False\n"
          ]
        }
      ]
    },
    {
      "cell_type": "code",
      "source": [
        "constant_features=[]\n",
        "x_train,x_test,y_train,y_test=train_test_split(df.drop('SalePrice',axis=1),df['SalePrice'],test_size=0.3,random_state=42)\n",
        "constant_features=[col for col in x_test.columns if x_test[col].nunique()==1]\n",
        "print(constant_features)"
      ],
      "metadata": {
        "colab": {
          "base_uri": "https://localhost:8080/"
        },
        "id": "imKPExtHn4wA",
        "outputId": "70ac6959-6889-4d75-f0b2-1f2a6d13180c"
      },
      "execution_count": null,
      "outputs": [
        {
          "output_type": "stream",
          "name": "stdout",
          "text": [
            "['Utilities']\n"
          ]
        }
      ]
    },
    {
      "cell_type": "code",
      "source": [
        "duplicate_features=[]\n",
        "for col1 in x_train.columns:\n",
        "  for col2 in x_train.columns:\n",
        "    if col1!=col2:\n",
        "      if x_train[col1].equals(x_train[col2]):\n",
        "        duplicate_features.append(col2)\n",
        "print(duplicate_features)"
      ],
      "metadata": {
        "colab": {
          "base_uri": "https://localhost:8080/"
        },
        "id": "CV9M7dd1p6FO",
        "outputId": "68e364af-2497-4117-cad8-44e93719b144"
      },
      "execution_count": null,
      "outputs": [
        {
          "output_type": "stream",
          "name": "stdout",
          "text": [
            "[]\n"
          ]
        }
      ]
    },
    {
      "cell_type": "code",
      "source": [
        "quasi_feature=[]\n",
        "for col in x_train.columns:\n",
        "  predominant=(x_train[col].value_counts()/float(len(x_train))).sort_values(ascending=False).values[0]\n",
        "  if predominant>=0.99:\n",
        "    quasi_feature.append(col)\n",
        "print(quasi_feature)"
      ],
      "metadata": {
        "colab": {
          "base_uri": "https://localhost:8080/"
        },
        "id": "SfP8pytJwU3p",
        "outputId": "fbbac03d-2a92-4134-9333-d9726ca50f0e"
      },
      "execution_count": null,
      "outputs": [
        {
          "output_type": "stream",
          "name": "stdout",
          "text": [
            "['Street', 'Utilities', 'Condition2', 'PoolArea', 'PoolQC', 'MiscFeature']\n"
          ]
        }
      ]
    },
    {
      "cell_type": "code",
      "source": [
        "df.drop(labels=quasi_feature,axis=1,inplace=True)\n",
        "df.drop(labels=constant_features,axis=1,inplace=True)\n",
        "df.drop(labels=duplicate_features,axis=1,inplace=True)"
      ],
      "metadata": {
        "id": "OpLym3ZcwtUh"
      },
      "execution_count": null,
      "outputs": []
    },
    {
      "cell_type": "code",
      "source": [
        "import matplotlib.pyplot as plt\n",
        "import seaborn as sns\n",
        "numeric_data=x_train.select_dtypes(include=['number'])\n",
        "corrmat=numeric_data.corr()\n",
        "plt.figure(figsize=(6,4))\n",
        "sns.heatmap(corrmat, annot=True, fmt=\".2f\", cmap=\"coolwarm\")\n",
        "plt.title(\"Correlation Matrix\")\n",
        "plt.show()"
      ],
      "metadata": {
        "colab": {
          "base_uri": "https://localhost:8080/",
          "height": 477
        },
        "id": "oghTbCdxxqEw",
        "outputId": "9af0f9ca-585e-447e-a5ae-d69ad66cb618"
      },
      "execution_count": null,
      "outputs": [
        {
          "output_type": "display_data",
          "data": {
            "text/plain": [
              "<Figure size 600x400 with 2 Axes>"
            ],
            "image/png": "[encoded data removed]"
          },
          "metadata": {}
        }
      ]
    },
    {
      "cell_type": "code",
      "source": [
        "def correlation(dataset,threshold):\n",
        "    col_corr = set()\n",
        "    corr_matrix = dataset.corr()\n",
        "    # Iterate through the upper triangle of the correlation matrix\n",
        "    for i in range(len(corr_matrix.columns)):\n",
        "        for j in range(i):\n",
        "            if abs(corr_matrix.iloc[i, j]) > threshold:\n",
        "                colname = corr_matrix.columns[i]  # Keep one of the two correlated columns\n",
        "                col_corr.add(colname)\n",
        "    return col_corr\n",
        "\n",
        "corr_features = correlation(x_train.select_dtypes(include=['number']), 0.9)\n",
        "correlated_features = set(corr_features)\n",
        "print(correlated_features)"
      ],
      "metadata": {
        "colab": {
          "base_uri": "https://localhost:8080/"
        },
        "id": "Kaa8cpQOyZYI",
        "outputId": "d0ea9cf8-c4b0-495a-cdf9-7e937194d976"
      },
      "execution_count": null,
      "outputs": [
        {
          "output_type": "stream",
          "name": "stdout",
          "text": [
            "set()\n"
          ]
        }
      ]
    },
    {
      "cell_type": "code",
      "source": [
        "from sklearn.feature_selection import mutual_info_regression, SelectKBest\n",
        "import pandas as pd\n",
        "import matplotlib.pyplot as plt\n",
        "X_num = x_train.select_dtypes(include=['number'])\n",
        "\n",
        "mi_scores = mutual_info_regression(X_num, y_train)\n",
        "\n",
        "# 2. Convert to a pandas Series for readability\n",
        "mi_series = pd.Series(mi_scores)\n",
        "mi_series.index = X_num.columns  # Label each MI score with its corresponding feature\n",
        "\n",
        "mi_series = mi_series.sort_values(ascending=False)\n",
        "\n",
        "# 4. Visualize the scores using a bar chart\n",
        "plt.figure(figsize=(6,4))\n",
        "mi_series.plot.bar()\n",
        "plt.title(\"Mutual Information Scores per Feature\")\n",
        "plt.ylabel(\"MI Score\")\n",
        "plt.show()"
      ],
      "metadata": {
        "colab": {
          "base_uri": "https://localhost:8080/",
          "height": 483
        },
        "id": "D0OW7ihvzvUP",
        "outputId": "71b7eac6-348e-4e94-b170-a198ec759819"
      },
      "execution_count": null,
      "outputs": [
        {
          "output_type": "display_data",
          "data": {
            "text/plain": [
              "<Figure size 600x400 with 1 Axes>"
            ],
            "image/png": "[encoded data removed]"
          },
          "metadata": {}
        }
      ]
    },
    {
      "cell_type": "code",
      "source": [
        "from sklearn.feature_selection import SelectKBest\n",
        "selector = SelectKBest(mutual_info_regression, k=1)\n",
        "selector.fit(X_num, y_train)\n",
        "\n",
        "selected_features = X_num.columns[selector.get_support()]\n",
        "print(f\"Top selected features:\", selected_features.tolist())"
      ],
      "metadata": {
        "colab": {
          "base_uri": "https://localhost:8080/"
        },
        "id": "jv5TFK5zzxN3",
        "outputId": "107913c3-076e-44c0-d9e4-056ce490da3f"
      },
      "execution_count": null,
      "outputs": [
        {
          "output_type": "stream",
          "name": "stdout",
          "text": [
            "Top selected features: ['OverallQual']\n"
          ]
        }
      ]
    },
    {
      "cell_type": "code",
      "source": [
        "df2=pd.read_csv(\"titanic_train.csv\")\n",
        "print(df2.head())"
      ],
      "metadata": {
        "colab": {
          "base_uri": "https://localhost:8080/"
        },
        "id": "DGZC0rrx6tK4",
        "outputId": "d12720b6-f63b-4bba-e03b-a359154e3ccb"
      },
      "execution_count": null,
      "outputs": [
        {
          "output_type": "stream",
          "name": "stdout",
          "text": [
            "   PassengerId  Survived  Pclass  ...     Fare Cabin  Embarked\n",
            "0            1         0       3  ...   7.2500   NaN         S\n",
            "1            2         1       1  ...  71.2833   C85         C\n",
            "2            3         1       3  ...   7.9250   NaN         S\n",
            "3            4         1       1  ...  53.1000  C123         S\n",
            "4            5         0       3  ...   8.0500   NaN         S\n",
            "\n",
            "[5 rows x 12 columns]\n"
          ]
        }
      ]
    },
    {
      "cell_type": "code",
      "source": [
        "print(df2.isnull().sum())"
      ],
      "metadata": {
        "colab": {
          "base_uri": "https://localhost:8080/"
        },
        "id": "onjY0VLw7DpY",
        "outputId": "f3e971cc-8d59-4780-9dfe-2b21c62026af"
      },
      "execution_count": null,
      "outputs": [
        {
          "output_type": "stream",
          "name": "stdout",
          "text": [
            "PassengerId      0\n",
            "Survived         0\n",
            "Pclass           0\n",
            "Name             0\n",
            "Sex              0\n",
            "Age            177\n",
            "SibSp            0\n",
            "Parch            0\n",
            "Ticket           0\n",
            "Fare             0\n",
            "Cabin          687\n",
            "Embarked         2\n",
            "dtype: int64\n"
          ]
        }
      ]
    },
    {
      "cell_type": "code",
      "source": [
        "df2."
      ],
      "metadata": {
        "id": "nwv_OCBb7IZw"
      },
      "execution_count": null,
      "outputs": []
    },
    {
      "cell_type": "code",
      "source": [
        "from scipy.stats import chi2_contingency\n",
        "\n"
      ],
      "metadata": {
        "id": "u9p7R_7z0DH-"
      },
      "execution_count": null,
      "outputs": []
    }
  ]
}