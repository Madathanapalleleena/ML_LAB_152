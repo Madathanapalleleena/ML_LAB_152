{
  "nbformat": 4,
  "nbformat_minor": 0,
  "metadata": {
    "colab": {
      "provenance": [],
      "authorship_tag": "ABX9TyPUoVCPSI9g+hlWIxqtvgHk",
      "include_colab_link": true
    },
    "kernelspec": {
      "name": "python3",
      "display_name": "Python 3"
    },
    "language_info": {
      "name": "python"
    }
  },
  "cells": [
    {
      "cell_type": "markdown",
      "metadata": {
        "id": "view-in-github",
        "colab_type": "text"
      },
      "source": [
        "<a href=\"https://colab.research.google.com/github/Madathanapalleleena/ML_LAB_152/blob/main/ML_wrapper.ipynb\" target=\"_parent\"><img src=\"https://colab.research.google.com/assets/colab-badge.svg\" alt=\"Open In Colab\"/></a>"
      ]
    },
    {
      "cell_type": "code",
      "execution_count": 1,
      "metadata": {
        "id": "4lU1S97CQHPa"
      },
      "outputs": [],
      "source": [
        "import numpy as np\n",
        "import pandas as pd\n",
        "from sklearn.datasets import load_wine\n",
        "from sklearn.model_selection import train_test_split\n",
        "from sklearn.preprocessing import StandardScaler\n",
        "from sklearn.linear_model import LogisticRegression\n",
        "from sklearn.ensemble import RandomForestClassifier\n",
        "from mlxtend.feature_selection import SequentialFeatureSelector as SFS, ExhaustiveFeatureSelector as EFS\n",
        "from sklearn.feature_selection import RFE\n",
        "from sklearn.decomposition import PCA\n",
        "from sklearn.discriminant_analysis import LinearDiscriminantAnalysis as LDA"
      ]
    },
    {
      "cell_type": "code",
      "source": [
        "wine = load_wine()\n",
        "X = pd.DataFrame(wine.data, columns=wine.feature_names)\n",
        "y = wine.target"
      ],
      "metadata": {
        "id": "vdXUX8wXQKXo"
      },
      "execution_count": 7,
      "outputs": []
    },
    {
      "cell_type": "code",
      "source": [
        "x_train, x_test, y_train, y_test = train_test_split(X, y, test_size=0.3, random_state=42, stratify=y)"
      ],
      "metadata": {
        "id": "9HcftK6vQbJw"
      },
      "execution_count": 4,
      "outputs": []
    },
    {
      "cell_type": "code",
      "source": [
        "scaler = StandardScaler()\n",
        "x_train_scaled = scaler.fit_transform(x_train)\n",
        "x_test_scaled = scaler.transform(x_test)\n",
        "x_train_scaled_df = pd.DataFrame(x_train_scaled, columns=X.columns)\n",
        "x_test_scaled_df = pd.DataFrame(x_test_scaled, columns=X.columns)"
      ],
      "metadata": {
        "id": "eustnO0IQSvM"
      },
      "execution_count": 5,
      "outputs": []
    },
    {
      "cell_type": "code",
      "source": [
        "print(x_test_scaled.shape)"
      ],
      "metadata": {
        "colab": {
          "base_uri": "https://localhost:8080/"
        },
        "id": "mN86QWNfQdl7",
        "outputId": "03d3619a-dc01-44c9-d297-790ad20fd4d0"
      },
      "execution_count": 6,
      "outputs": [
        {
          "output_type": "stream",
          "name": "stdout",
          "text": [
            "(54, 13)\n"
          ]
        }
      ]
    },
    {
      "cell_type": "code",
      "source": [
        "clf = RandomForestClassifier(n_estimators=100, random_state=0, n_jobs=-1)"
      ],
      "metadata": {
        "id": "WOxYy1sUQu8R"
      },
      "execution_count": 10,
      "outputs": []
    },
    {
      "cell_type": "code",
      "source": [
        "sfs = SFS(clf,k_features=5,forward=True,floating=False,scoring='accuracy',cv=3, n_jobs=-1)\n",
        "\n",
        "print(\"Starting SFS...\")\n",
        "sfs = sfs.fit(x_train_scaled, y_train)\n",
        "\n",
        "print(\"SFS selected features:\", sfs.k_feature_names_)\n",
        "print(\"SFS best accuracy score: %.4f\" % sfs.k_score_)\n",
        "sfs_features_train = sfs.transform(x_train_scaled)\n",
        "sfs_features_test = sfs.transform(x_test_scaled)\n",
        "clf.fit(sfs_features_train, y_train)\n",
        "print(\"SFS Test Accuracy: %.4f\" % clf.score(sfs_features_test, y_test))"
      ],
      "metadata": {
        "colab": {
          "base_uri": "https://localhost:8080/"
        },
        "id": "lWiHR0o9QzTR",
        "outputId": "0ba5ae55-5840-4bf9-b237-6a0334385d7d"
      },
      "execution_count": 19,
      "outputs": [
        {
          "output_type": "stream",
          "name": "stdout",
          "text": [
            "Starting SFS...\n",
            "SFS selected features: ('0', '1', '3', '6', '9')\n",
            "SFS best accuracy score: 0.9760\n",
            "SFS Test Accuracy: 0.9074\n"
          ]
        }
      ]
    },
    {
      "cell_type": "code",
      "source": [
        "bfs = SFS(clf,\n",
        "          k_features=5,\n",
        "          forward=False,\n",
        "          floating=False,\n",
        "          scoring='accuracy',\n",
        "          cv=3,\n",
        "          n_jobs=-1)\n",
        "\n",
        "print(\"Starting BFS...\")\n",
        "bfs = bfs.fit(x_train_scaled, y_train)\n",
        "\n",
        "print(\"BFS selected features:\", bfs.k_feature_names_)\n",
        "print(\"BFS best accuracy score: %.4f\" % bfs.k_score_)\n",
        "bfs_features_train = bfs.transform(x_train_scaled)\n",
        "bfs_features_test = bfs.transform(x_test_scaled)\n",
        "clf.fit(bfs_features_train, y_train)\n",
        "print(\"BFS Test Accuracy: %.4f\" % clf.score(bfs_features_test, y_test))"
      ],
      "metadata": {
        "colab": {
          "base_uri": "https://localhost:8080/"
        },
        "id": "2R33KC9TRPTZ",
        "outputId": "552c7427-9ac2-465a-e614-c414a7eb4ce3"
      },
      "execution_count": 20,
      "outputs": [
        {
          "output_type": "stream",
          "name": "stdout",
          "text": [
            "Starting BFS...\n",
            "BFS selected features: ('0', '2', '4', '6', '9')\n",
            "BFS best accuracy score: 0.9599\n",
            "BFS Test Accuracy: 0.9630\n"
          ]
        }
      ]
    },
    {
      "cell_type": "code",
      "source": [
        "efs = EFS(clf, min_features=1,max_features=4,scoring='accuracy', cv=3,n_jobs=-1)\n",
        "print(\"\\nStarting Exhaustive Feature Selector...\")\n",
        "efs = efs.fit(x_train_scaled, y_train)\n",
        "\n",
        "print(\"Exhaustive best features:\", efs.best_feature_names_)\n",
        "print(\"Exhaustive best accuracy score: %.4f\" % efs.best_score_)\n",
        "efs_features_train = efs.transform(x_train_scaled)\n",
        "efs_features_test = efs.transform(x_test_scaled)\n",
        "clf.fit(efs_features_train, y_train)\n",
        "print(\"EFS Test Accuracy: %.4f\" % clf.score(efs_features_test, y_test))"
      ],
      "metadata": {
        "colab": {
          "base_uri": "https://localhost:8080/"
        },
        "id": "yW4I18emRV1D",
        "outputId": "38753306-aacd-46f8-f6ce-ddb994cc88b8"
      },
      "execution_count": 18,
      "outputs": [
        {
          "output_type": "stream",
          "name": "stdout",
          "text": [
            "\n",
            "Starting Exhaustive Feature Selector...\n"
          ]
        },
        {
          "output_type": "stream",
          "name": "stderr",
          "text": [
            "Features: 1092/1092"
          ]
        },
        {
          "output_type": "stream",
          "name": "stdout",
          "text": [
            "Exhaustive best features: ('0', '4', '6', '10')\n",
            "Exhaustive best accuracy score: 0.9758\n",
            "EFS Test Accuracy: 0.9074\n"
          ]
        }
      ]
    },
    {
      "cell_type": "code",
      "source": [
        "rfe = RFE(estimator=clf, n_features_to_select=5)\n",
        "\n",
        "print(\"Starting RFE..\")\n",
        "rfe.fit(x_train_scaled, y_train)\n",
        "\n",
        "print(\"\\nRFE selected features:\", X.columns[rfe.support_].tolist())\n",
        "rfe_features_train = rfe.transform(x_train_scaled)\n",
        "rfe_features_test = rfe.transform(x_test_scaled)\n",
        "clf.fit(rfe_features_train, y_train)\n",
        "print(\"RFE Test Accuracy: %.4f\" % clf.score(rfe_features_test, y_test))"
      ],
      "metadata": {
        "colab": {
          "base_uri": "https://localhost:8080/"
        },
        "id": "JSNwXJbKRglb",
        "outputId": "79d97ece-e633-42e8-e53f-72ecec9e263c"
      },
      "execution_count": 17,
      "outputs": [
        {
          "output_type": "stream",
          "name": "stdout",
          "text": [
            "Starting RFE..\n",
            "\n",
            "RFE selected features: ['alcohol', 'flavanoids', 'color_intensity', 'od280/od315_of_diluted_wines', 'proline']\n",
            "RFE Test Accuracy: 1.0000\n"
          ]
        }
      ]
    },
    {
      "cell_type": "code",
      "source": [
        "pca = PCA(n_components=5)\n",
        "x_train_pca = pca.fit_transform(x_train_scaled)\n",
        "x_test_pca = pca.transform(x_test_scaled)\n",
        "\n",
        "clf.fit(x_train_pca, y_train)\n",
        "\n",
        "print(\"PCA explained variance ratio:\", pca.explained_variance_ratio_)\n",
        "print(\"PCA Test Accuracy: %.4f\" % clf.score(x_test_pca, y_test))"
      ],
      "metadata": {
        "colab": {
          "base_uri": "https://localhost:8080/"
        },
        "id": "eNXzvY_YRn-2",
        "outputId": "19c1e904-96ee-4977-a60b-7dbdd34c7394"
      },
      "execution_count": 15,
      "outputs": [
        {
          "output_type": "stream",
          "name": "stdout",
          "text": [
            "\n",
            "PCA explained variance ratio: [0.35730453 0.19209164 0.11006755 0.07250719 0.06973166]\n",
            "PCA Test Accuracy: 0.9444\n"
          ]
        }
      ]
    },
    {
      "cell_type": "code",
      "source": [
        "lda = LDA(n_components=2)\n",
        "x_train_lda = lda.fit_transform(x_train_scaled, y_train)\n",
        "x_test_lda = lda.transform(x_test_scaled)\n",
        "\n",
        "clf.fit(x_train_lda, y_train)\n",
        "\n",
        "print(\"LDA shape:\", x_train_lda.shape)\n",
        "print(\"LDA Test Accuracy: %.4f\" % clf.score(x_test_lda, y_test))"
      ],
      "metadata": {
        "colab": {
          "base_uri": "https://localhost:8080/"
        },
        "id": "q9HtbgTzRqZo",
        "outputId": "5e4ea4fb-3f95-4371-f980-605ec5b57957"
      },
      "execution_count": 16,
      "outputs": [
        {
          "output_type": "stream",
          "name": "stdout",
          "text": [
            "\n",
            "LDA shape: (124, 2)\n",
            "LDA Test Accuracy: 0.9630\n"
          ]
        }
      ]
    }
  ]
}